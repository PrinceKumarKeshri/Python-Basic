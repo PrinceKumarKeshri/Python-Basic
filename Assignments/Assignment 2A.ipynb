{
 "cells": [
  {
   "cell_type": "code",
   "execution_count": 36,
   "metadata": {},
   "outputs": [
    {
     "name": "stdout",
     "output_type": "stream",
     "text": [
      "number=67\n",
      "number is odd\n"
     ]
    }
   ],
   "source": [
    "n=int(input(\"number=\"))\n",
    "if n%2 == 0:\n",
    "    print(\"number is even\")\n",
    "else:\n",
    "    print(\"number is odd\")"
   ]
  },
  {
   "cell_type": "code",
   "execution_count": 37,
   "metadata": {},
   "outputs": [
    {
     "name": "stdout",
     "output_type": "stream",
     "text": [
      "a=67\n",
      "b=89\n",
      "b is greatest\n"
     ]
    }
   ],
   "source": [
    "a=int(input(\"a=\"))\n",
    "b=int(input(\"b=\"))\n",
    "if a>b:\n",
    "    print(\"{0} is greatest\".format(\"a\"))\n",
    "else:\n",
    "    print(\"{0} is greatest\".format(\"b\"))    "
   ]
  },
  {
   "cell_type": "code",
   "execution_count": 38,
   "metadata": {},
   "outputs": [
    {
     "name": "stdout",
     "output_type": "stream",
     "text": [
      "a=78\n",
      "b=56\n",
      "c=8\n",
      "a is greatest\n"
     ]
    }
   ],
   "source": [
    "a=int(input(\"a=\"))\n",
    "b=float(input(\"b=\"))\n",
    "c=int(input(\"c=\"))\n",
    "if a>b and a>c:\n",
    "    print(\"{0} is greatest\".format(\"a\"))\n",
    "elif b>a and b>c:\n",
    "    print(\"{0} is greatest\".format(\"b\"))\n",
    "else:\n",
    "    print(\"c is greatest\")"
   ]
  },
  {
   "cell_type": "code",
   "execution_count": 39,
   "metadata": {},
   "outputs": [
    {
     "name": "stdout",
     "output_type": "stream",
     "text": [
      "a=56\n",
      "b=78\n",
      "c=45\n",
      "d=34\n",
      "b is greatest\n"
     ]
    }
   ],
   "source": [
    "a=int(input(\"a=\"))\n",
    "b=float(input(\"b=\"))\n",
    "c=int(input(\"c=\"))\n",
    "d=int(input(\"d=\"))\n",
    "if a>b and a>c and a>d:\n",
    "    print(\"{0} is greatest\".format(\"a\"))\n",
    "elif b>a and b>c and b>d:\n",
    "    print(\"{0} is greatest\".format(\"b\"))\n",
    "elif c>a and c>b and c>d:\n",
    "    print(\"c is greatest\")\n",
    "else:\n",
    "    print(\"d is greatest\")"
   ]
  },
  {
   "cell_type": "code",
   "execution_count": 4,
   "metadata": {},
   "outputs": [
    {
     "name": "stdout",
     "output_type": "stream",
     "text": [
      "a=34\n",
      "b=345\n",
      "c=4456\n",
      "d=5656\n",
      "e=34\n",
      "d is greatest\n"
     ]
    }
   ],
   "source": [
    "a=int(input(\"a=\"))\n",
    "b=float(input(\"b=\"))\n",
    "c=int(input(\"c=\"))\n",
    "d=int(input(\"d=\"))\n",
    "e=int(input(\"e=\"))\n",
    "if a>b and a>c and a>d and a>e:\n",
    "    print(\"{0} is greatest\".format(\"a\"))\n",
    "elif b>a and b>c and b>d and b>e:\n",
    "    print(\"{0} is greatest\".format(\"b\"))\n",
    "elif c>a and c>b and c>d and c>e:\n",
    "    print(\"c is greatest\")\n",
    "elif d>a and d>b and d>c and d>e:\n",
    "    print(\"d is greatest\")\n",
    "else:\n",
    "    print(\"e is greatest\")"
   ]
  },
  {
   "cell_type": "code",
   "execution_count": 18,
   "metadata": {},
   "outputs": [
    {
     "name": "stdout",
     "output_type": "stream",
     "text": [
      "sub1=45\n",
      "sub2=34\n",
      "sub3=23\n",
      "sub4=46\n",
      "sub5=48\n",
      "total=250\n",
      "marks=78.4\n",
      "Grade C\n",
      "Hello!Ravi you get the marks is 78.4.Your grade is\n"
     ]
    }
   ],
   "source": [
    "a=\"Ravi\"\n",
    "sub1=float(input(\"sub1=\"))\n",
    "sub2=int(input(\"sub2=\"))\n",
    "sub3=int(input(\"sub3=\"))\n",
    "sub4=int(input(\"sub4=\"))\n",
    "sub5=int(input(\"sub5=\"))\n",
    "total=int(input(\"total=\"))\n",
    "marks=((sub1+sub2+sub3+sub4+sub5)/total)*100\n",
    "print(\"marks={}\".format(marks))\n",
    "if marks>90:\n",
    "    print(\"Grade A\")\n",
    "elif marks>80 and marks<=90:\n",
    "    print(\"Grade B\")\n",
    "elif marks>70 and marks<=80:\n",
    "    print(\"Grade C\")\n",
    "elif marks>60 and marks<=70:\n",
    "    print(\"Grade D\")\n",
    "else:\n",
    "    print(\"Fail\")\n",
    "print(f\"Hello!{a} you get the marks is {marks}.Your grade is\")"
   ]
  },
  {
   "cell_type": "code",
   "execution_count": 45,
   "metadata": {},
   "outputs": [
    {
     "name": "stdout",
     "output_type": "stream",
     "text": [
      "number8\n",
      "number is prime\n"
     ]
    }
   ],
   "source": [
    "n=int(input(\"number\"))\n",
    "if n%n==0 and n%1==0:\n",
    "    print(\"number is prime\")\n",
    "    \n",
    "else:\n",
    "    print(\"number is not prime\")"
   ]
  },
  {
   "cell_type": "code",
   "execution_count": 6,
   "metadata": {},
   "outputs": [
    {
     "name": "stdout",
     "output_type": "stream",
     "text": [
      "a=45\n",
      "b=4564\n",
      "c=34654\n",
      "d=4524\n",
      "e=45\n",
      "c is greatest\n"
     ]
    }
   ],
   "source": [
    "a=int(input(\"a=\"))\n",
    "b=float(input(\"b=\"))\n",
    "c=int(input(\"c=\"))\n",
    "d=int(input(\"d=\"))\n",
    "e=int(input(\"e=\"))\n",
    "if a>b and a>c and a>d and a>e:\n",
    "    print(\"{0} is greatest\".format(\"a\"))\n",
    "elif b>c and b>d and b>e:\n",
    "    print(f\"{b} is greatest\")\n",
    "elif c>d and c>e:\n",
    "    print(\"c is greatest\")\n",
    "elif d>e:\n",
    "    print(\"{0} is greatest\".format(d))\n",
    "else:\n",
    "    print(\"e is grestest\")"
   ]
  },
  {
   "cell_type": "code",
   "execution_count": null,
   "metadata": {},
   "outputs": [],
   "source": []
  }
 ],
 "metadata": {
  "kernelspec": {
   "display_name": "Python 3",
   "language": "python",
   "name": "python3"
  },
  "language_info": {
   "codemirror_mode": {
    "name": "ipython",
    "version": 3
   },
   "file_extension": ".py",
   "mimetype": "text/x-python",
   "name": "python",
   "nbconvert_exporter": "python",
   "pygments_lexer": "ipython3",
   "version": "3.7.4"
  }
 },
 "nbformat": 4,
 "nbformat_minor": 2
}
