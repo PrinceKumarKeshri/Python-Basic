{
 "cells": [
  {
   "cell_type": "markdown",
   "metadata": {},
   "source": [
    "For this challenge, create a bank account class that has two attributes:\n",
    "\n",
    "-> owner\n",
    "\n",
    "-> balance\n",
    "\n",
    "and two methods:\n",
    "\n",
    "\n",
    "-> deposit\n",
    "\n",
    "-> withdraw\n",
    "\n",
    "As an added requirement, withdrawals may not exceed the available balance.\n",
    "\n",
    "Instantiate your class, make several deposits and withdrawals, and test to make sure the account can't be overdrawn."
   ]
  },
  {
   "cell_type": "code",
   "execution_count": null,
   "metadata": {},
   "outputs": [],
   "source": []
  },
  {
   "cell_type": "code",
   "execution_count": 10,
   "metadata": {},
   "outputs": [],
   "source": [
    "class Account():\n",
    "        def __init__(self,owner,balance):\n",
    "            self.owner=owne\n",
    "            self.balance=balance\n",
    "        def deposit(self):\n",
    "            amount=int(input(\"Enter deposite amount = \"))\n",
    "            self.balance=self.balance+amount\n",
    "            print(\"Amount is deposited successfully\")\n",
    "            print(f\"Total amount = {self.balance}\")\n",
    "        def withdraw(self):\n",
    "            amount=int(input(\"Enter withdraw amount = \"))\n",
    "            if(amount<self.balance):\n",
    "                print(\"Amount is withdrwaled successfully\")\n",
    "                self.balance=self.balance-amount\n",
    "                print(f\"Total amount = {self.balance}\")\n",
    "            else:\n",
    "                print(\"Enter amount is exceed the main balance\")\n",
    "            "
   ]
  },
  {
   "cell_type": "code",
   "execution_count": 11,
   "metadata": {},
   "outputs": [],
   "source": [
    "acct1=Account(\"Prince\",500)"
   ]
  },
  {
   "cell_type": "code",
   "execution_count": 12,
   "metadata": {},
   "outputs": [
    {
     "data": {
      "text/plain": [
       "'Prince'"
      ]
     },
     "execution_count": 12,
     "metadata": {},
     "output_type": "execute_result"
    }
   ],
   "source": [
    "acct1.owner"
   ]
  },
  {
   "cell_type": "code",
   "execution_count": 13,
   "metadata": {},
   "outputs": [
    {
     "data": {
      "text/plain": [
       "500"
      ]
     },
     "execution_count": 13,
     "metadata": {},
     "output_type": "execute_result"
    }
   ],
   "source": [
    "acct1.balance"
   ]
  },
  {
   "cell_type": "code",
   "execution_count": 14,
   "metadata": {},
   "outputs": [
    {
     "name": "stdout",
     "output_type": "stream",
     "text": [
      "Enter deposite amount = 10\n",
      "Amount is deposited successfully\n",
      "Total amount = 510\n"
     ]
    }
   ],
   "source": [
    "acct1.deposit()"
   ]
  },
  {
   "cell_type": "code",
   "execution_count": 15,
   "metadata": {},
   "outputs": [
    {
     "name": "stdout",
     "output_type": "stream",
     "text": [
      "Enter withdraw amount = 400\n",
      "Amount is withdrwaled successfully\n",
      "Total amount = 110\n"
     ]
    }
   ],
   "source": [
    "acct1.withdraw()"
   ]
  },
  {
   "cell_type": "code",
   "execution_count": null,
   "metadata": {},
   "outputs": [],
   "source": []
  },
  {
   "cell_type": "code",
   "execution_count": null,
   "metadata": {},
   "outputs": [],
   "source": []
  },
  {
   "cell_type": "markdown",
   "metadata": {},
   "source": [
    "Another method : "
   ]
  },
  {
   "cell_type": "code",
   "execution_count": 28,
   "metadata": {},
   "outputs": [],
   "source": [
    "class Account():\n",
    "        \n",
    "        def __init__(self,owner,balance):\n",
    "            self.owner=owner\n",
    "            self.balance=balance\n",
    "        \n",
    "        def deposit(self):\n",
    "            amount=int(input(\"Enter deposite amount = \"))\n",
    "            self.balance=self.balance+amount\n",
    "            print(\"Amount is deposited successfully.\")\n",
    "            print(\"Do you want to see your main balance : \")\n",
    "            y=[\"Yes\",\"No\"]\n",
    "            \n",
    "            for item in y:\n",
    "                print(f\"-> {item}\")\n",
    "            \n",
    "            t=input(\"Enter your choice : \")\n",
    "            \n",
    "            if(t.capitalize()==\"Yes\"):\n",
    "                print(f\"Total amount = {self.balance}\")\n",
    "            else:\n",
    "                pass\n",
    "        \n",
    "        def withdraw(self):\n",
    "            \n",
    "            amount=int(input(\"Enter withdraw amount = \"))\n",
    "            \n",
    "            if(amount<self.balance):\n",
    "                print(\"Amount is withdrwaled successfully.\")\n",
    "                self.balance=self.balance-amount\n",
    "            \n",
    "            else:\n",
    "                print(\"Enter amount is exceed the main balance.\")\n",
    "            \n",
    "            print(\"Do you want to see your main balance : \")\n",
    "            y=[\"Yes\",\"No\"]\n",
    "            \n",
    "            for item in y:\n",
    "                print(f\"-> {item}\")\n",
    "            \n",
    "            t=input(\"Enter your choice : \")\n",
    "            if(t.capitalize()==\"Yes\"):\n",
    "                print(f\"Total amount = {self.balance}\")\n",
    "            else:\n",
    "                pass"
   ]
  },
  {
   "cell_type": "code",
   "execution_count": 29,
   "metadata": {},
   "outputs": [],
   "source": [
    "acct1=Account(\"Prince\",500)"
   ]
  },
  {
   "cell_type": "code",
   "execution_count": 31,
   "metadata": {},
   "outputs": [
    {
     "name": "stdout",
     "output_type": "stream",
     "text": [
      "Enter deposite amount = 500\n",
      "Amount is deposited successfully.\n",
      "Do you want to see your main balance : \n",
      "-> Yes\n",
      "-> No\n",
      "Enter your choice : no\n"
     ]
    }
   ],
   "source": [
    "acct1.deposit()"
   ]
  },
  {
   "cell_type": "code",
   "execution_count": 23,
   "metadata": {},
   "outputs": [
    {
     "name": "stdout",
     "output_type": "stream",
     "text": [
      "Enter withdraw amount = 50\n",
      "Amount is withdrwaled successfully.\n",
      "Do you want to see your main balance : \n",
      "-> Yes\n",
      "-> No\n",
      "Enter your choice : nO\n"
     ]
    }
   ],
   "source": [
    "acct1.withdraw()"
   ]
  },
  {
   "cell_type": "code",
   "execution_count": 24,
   "metadata": {},
   "outputs": [
    {
     "name": "stdout",
     "output_type": "stream",
     "text": [
      "Enter withdraw amount = 10\n",
      "Amount is withdrwaled successfully.\n",
      "Do you want to see your main balance : \n",
      "-> Yes\n",
      "-> No\n",
      "Enter your choice : yeS\n",
      "Total amount = 90\n"
     ]
    }
   ],
   "source": [
    "acct1.withdraw()"
   ]
  },
  {
   "cell_type": "code",
   "execution_count": null,
   "metadata": {},
   "outputs": [],
   "source": []
  },
  {
   "cell_type": "code",
   "execution_count": null,
   "metadata": {},
   "outputs": [],
   "source": []
  },
  {
   "cell_type": "code",
   "execution_count": 118,
   "metadata": {},
   "outputs": [],
   "source": [
    "class Account():\n",
    "        \n",
    "        def __init__(self,owner,balance):\n",
    "            self.owner=owner\n",
    "            self.balance=balance\n",
    "        \n",
    "        def deposit(self):\n",
    "            amount=int(input(\"Enter deposite amount = \"))\n",
    "            self.balance=self.balance+amount\n",
    "            print(\"Amount is deposited successfully.\")\n",
    "            \n",
    "        \n",
    "        def withdraw(self):\n",
    "            \n",
    "            amount=int(input(\"Enter withdraw amount = \"))\n",
    "            \n",
    "            while True:\n",
    "                if(amount<self.balance):\n",
    "                    print(\"Amount is withdrwaled successfully.\")\n",
    "                    self.balance=self.balance-amount\n",
    "                    break\n",
    "\n",
    "                else:\n",
    "                    print(\"Enter amount is exceed than main balance.\")\n",
    "                    continue\n",
    "            \n",
    "        def balance(self):\n",
    "            bal=self.balance\n",
    "            print(f\"Total amount = {bal}\")"
   ]
  },
  {
   "cell_type": "code",
   "execution_count": 119,
   "metadata": {},
   "outputs": [],
   "source": [
    "my_account=Account('prince', 500)"
   ]
  },
  {
   "cell_type": "code",
   "execution_count": 6,
   "metadata": {},
   "outputs": [
    {
     "name": "stdout",
     "output_type": "stream",
     "text": [
      "Enter deposite amount = 500\n",
      "Amount is deposited successfully.\n"
     ]
    }
   ],
   "source": [
    "my_account.deposit()"
   ]
  },
  {
   "cell_type": "code",
   "execution_count": 120,
   "metadata": {},
   "outputs": [
    {
     "data": {
      "text/plain": [
       "500"
      ]
     },
     "execution_count": 120,
     "metadata": {},
     "output_type": "execute_result"
    }
   ],
   "source": [
    "my_account.balance"
   ]
  },
  {
   "cell_type": "code",
   "execution_count": 3,
   "metadata": {},
   "outputs": [
    {
     "name": "stdout",
     "output_type": "stream",
     "text": [
      "New Account                   Current Balance\n",
      "Deposite1                     Deposite2\n",
      "Withdraw1                     Withdraw2\n",
      "Balance1                      Balance2\n",
      "Select your option : h\n"
     ]
    }
   ],
   "source": [
    "class Account():\n",
    "        \n",
    "        def __init__(self,owner,balance):\n",
    "            self.owner=owner\n",
    "            self.balance=balance\n",
    "        \n",
    "        def make_a_new_account(self):\n",
    "            self.AdharNumber=int(input('Adhar number = '))\n",
    "            \n",
    "            length=len(str(self.AdharNumber))\n",
    "            while True:\n",
    "                if length>12 or length<12:\n",
    "                    print('Adhar number is invalid\\Please enter again')\n",
    "                    continue\n",
    "\n",
    "                else:\n",
    "                    self.name=input('Account owner name : ')\n",
    "                    self.InitialBalance=float(input('Current balance = '))\n",
    "                    break\n",
    "        \n",
    "        def deposit1(self):\n",
    "            amount=int(input(\"Enter deposite amount = \"))\n",
    "            self.balance=self.balance+amount\n",
    "            print(\"Amount is deposited successfully.\")\n",
    "        \n",
    "        def deposit2(self):\n",
    "            amount=int(input(\"Enter deposite amount = \"))\n",
    "            self.InitialBalance=self.InitialBalance+amount\n",
    "            print(\"Amount is deposited successfully.\")\n",
    "        \n",
    "        def withdraw1(self):\n",
    "            \n",
    "            amount=int(input(\"Enter withdraw amount = \"))\n",
    "            \n",
    "            while True:\n",
    "                if(amount<self.balance):\n",
    "                    print(\"Amount is withdrwaled successfully.\")\n",
    "                    self.balance=self.balance-amount\n",
    "                    break\n",
    "\n",
    "                else:\n",
    "                    print(\"Enter amount is exceed than main balance.\")\n",
    "                    continue\n",
    "        \n",
    "        def withdraw2(self):\n",
    "            \n",
    "            amount=int(input(\"Enter withdraw amount = \"))\n",
    "            \n",
    "            while True:\n",
    "                if(amount<self.InitialBalance):\n",
    "                    print(\"Amount is withdrwaled successfully.\")\n",
    "                    self.IntialBalance=self.InitialBalance-amount\n",
    "                    break\n",
    "\n",
    "                else:\n",
    "                    print(\"Enter amount is exceed than main balance.\")\n",
    "                    continue\n",
    "        \n",
    "        def CurrentBalance(self):\n",
    "            print(self.balance)\n",
    "        \n",
    "        def balance1(self):\n",
    "            print(f\"Total amount = {self.balance}\")\n",
    "            \n",
    "        def balance2(self):\n",
    "            bal=self.InitialBalance\n",
    "            print(f\"Total amount = {bal}\")\n",
    "        \n",
    "        \n",
    "        t=make_a_new_account\n",
    "        MyList=['New Account                   Current Balance',\n",
    "              'Deposite1                     Deposite2', \n",
    "              'Withdraw1                     Withdraw2', \n",
    "              'Balance1                      Balance2']\n",
    "\n",
    "        for i in MyList:\n",
    "            print(i)\n",
    "        \n",
    "        t=input('Select your option : ')\n",
    "        "
   ]
  },
  {
   "cell_type": "code",
   "execution_count": null,
   "metadata": {},
   "outputs": [],
   "source": []
  },
  {
   "cell_type": "code",
   "execution_count": null,
   "metadata": {},
   "outputs": [],
   "source": []
  },
  {
   "cell_type": "code",
   "execution_count": null,
   "metadata": {},
   "outputs": [],
   "source": []
  },
  {
   "cell_type": "code",
   "execution_count": null,
   "metadata": {},
   "outputs": [],
   "source": []
  },
  {
   "cell_type": "code",
   "execution_count": null,
   "metadata": {},
   "outputs": [],
   "source": []
  },
  {
   "cell_type": "code",
   "execution_count": null,
   "metadata": {},
   "outputs": [],
   "source": []
  },
  {
   "cell_type": "markdown",
   "metadata": {},
   "source": [
    "## Research is required for above program"
   ]
  },
  {
   "cell_type": "code",
   "execution_count": 31,
   "metadata": {},
   "outputs": [],
   "source": [
    "class p():\n",
    "    def __init__(self, name='prince'):\n",
    "        self.name=name\n",
    "    \n",
    "    def new_name(self,name1):\n",
    "        self.name1=name1\n",
    "        print(name1)\n",
    "        \n",
    "        "
   ]
  },
  {
   "cell_type": "code",
   "execution_count": 32,
   "metadata": {},
   "outputs": [],
   "source": [
    "r=p()"
   ]
  },
  {
   "cell_type": "code",
   "execution_count": 33,
   "metadata": {},
   "outputs": [
    {
     "data": {
      "text/plain": [
       "'prince'"
      ]
     },
     "execution_count": 33,
     "metadata": {},
     "output_type": "execute_result"
    }
   ],
   "source": [
    "r.name"
   ]
  },
  {
   "cell_type": "code",
   "execution_count": 34,
   "metadata": {},
   "outputs": [
    {
     "name": "stdout",
     "output_type": "stream",
     "text": [
      "rajat\n"
     ]
    }
   ],
   "source": [
    "r.new_name('rajat')"
   ]
  },
  {
   "cell_type": "code",
   "execution_count": null,
   "metadata": {},
   "outputs": [],
   "source": []
  },
  {
   "cell_type": "code",
   "execution_count": 35,
   "metadata": {},
   "outputs": [
    {
     "name": "stdout",
     "output_type": "stream",
     "text": [
      "100\n"
     ]
    }
   ],
   "source": [
    "class p():\n",
    "    def __init__(self, name='prince'):\n",
    "        self.name=name\n",
    "    \n",
    "    def new_name(self,name1):\n",
    "        self.name1=name1\n",
    "        print(name1)\n",
    "        \n",
    "    dict={'balance':100}\n",
    "    print(dict['balance'])"
   ]
  },
  {
   "cell_type": "code",
   "execution_count": 103,
   "metadata": {},
   "outputs": [],
   "source": [
    "class p():\n",
    "    def __init__(self, number):\n",
    "        self.number=number\n",
    "        \n",
    "    def length(self):\n",
    "        l=len(str(self.number))\n",
    "        \n",
    "        print(l)"
   ]
  },
  {
   "cell_type": "code",
   "execution_count": 104,
   "metadata": {},
   "outputs": [],
   "source": [
    "r=p(434)"
   ]
  },
  {
   "cell_type": "code",
   "execution_count": 105,
   "metadata": {},
   "outputs": [
    {
     "name": "stdout",
     "output_type": "stream",
     "text": [
      "3\n",
      "None\n"
     ]
    }
   ],
   "source": [
    "print(r.length())"
   ]
  },
  {
   "cell_type": "code",
   "execution_count": 87,
   "metadata": {},
   "outputs": [
    {
     "ename": "AttributeError",
     "evalue": "module 'sys' has no attribute 'len'",
     "output_type": "error",
     "traceback": [
      "\u001b[1;31m---------------------------------------------------------------------------\u001b[0m",
      "\u001b[1;31mAttributeError\u001b[0m                            Traceback (most recent call last)",
      "\u001b[1;32m<ipython-input-87-44c90ceecf8c>\u001b[0m in \u001b[0;36m<module>\u001b[1;34m\u001b[0m\n\u001b[0;32m      1\u001b[0m \u001b[1;32mimport\u001b[0m \u001b[0msys\u001b[0m\u001b[1;33m\u001b[0m\u001b[1;33m\u001b[0m\u001b[0m\n\u001b[0;32m      2\u001b[0m \u001b[0mt\u001b[0m\u001b[1;33m=\u001b[0m\u001b[1;36m2345\u001b[0m\u001b[1;33m\u001b[0m\u001b[1;33m\u001b[0m\u001b[0m\n\u001b[1;32m----> 3\u001b[1;33m \u001b[0msys\u001b[0m\u001b[1;33m.\u001b[0m\u001b[0mlen\u001b[0m\u001b[1;33m(\u001b[0m\u001b[0mt\u001b[0m\u001b[1;33m)\u001b[0m\u001b[1;33m\u001b[0m\u001b[1;33m\u001b[0m\u001b[0m\n\u001b[0m",
      "\u001b[1;31mAttributeError\u001b[0m: module 'sys' has no attribute 'len'"
     ]
    }
   ],
   "source": [
    "import sys\n",
    "t=2345\n",
    "sys.len(t)"
   ]
  },
  {
   "cell_type": "code",
   "execution_count": null,
   "metadata": {},
   "outputs": [],
   "source": []
  }
 ],
 "metadata": {
  "kernelspec": {
   "display_name": "Python 3",
   "language": "python",
   "name": "python3"
  },
  "language_info": {
   "codemirror_mode": {
    "name": "ipython",
    "version": 3
   },
   "file_extension": ".py",
   "mimetype": "text/x-python",
   "name": "python",
   "nbconvert_exporter": "python",
   "pygments_lexer": "ipython3",
   "version": "3.7.4"
  }
 },
 "nbformat": 4,
 "nbformat_minor": 2
}
