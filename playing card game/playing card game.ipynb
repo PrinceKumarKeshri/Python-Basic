{
 "cells": [
  {
   "cell_type": "markdown",
   "metadata": {},
   "source": [
    "# Computer vs Computer"
   ]
  },
  {
   "cell_type": "markdown",
   "metadata": {},
   "source": [
    "## Card class"
   ]
  },
  {
   "cell_type": "code",
   "execution_count": null,
   "metadata": {},
   "outputs": [],
   "source": [
    "class card:\n",
    "    def __init__(self, suit, rank):\n",
    "        self.suit = suit\n",
    "        self.rank = rank\n",
    "        \n",
    "    def __str__(self):\n",
    "        return self.rank + \" of \" + self.suit"
   ]
  },
  {
   "cell_type": "code",
   "execution_count": null,
   "metadata": {},
   "outputs": [],
   "source": [
    "two_hearts = card(\"Hearts\", \"Two\")"
   ]
  },
  {
   "cell_type": "code",
   "execution_count": null,
   "metadata": {},
   "outputs": [],
   "source": [
    "two_hearts"
   ]
  },
  {
   "cell_type": "code",
   "execution_count": null,
   "metadata": {},
   "outputs": [],
   "source": [
    "print(two_hearts)"
   ]
  },
  {
   "cell_type": "code",
   "execution_count": null,
   "metadata": {},
   "outputs": [],
   "source": [
    "two_hearts.suit"
   ]
  },
  {
   "cell_type": "code",
   "execution_count": null,
   "metadata": {},
   "outputs": [],
   "source": [
    "two_hearts.rank"
   ]
  },
  {
   "cell_type": "code",
   "execution_count": null,
   "metadata": {},
   "outputs": [],
   "source": [
    "values = {'Two':2, 'Three':3, 'Four':4, 'Five':5, 'Six':6, 'Seven':7, 'Eight':8,\n",
    "         'Nine':9, 'Ten':10, 'Jack':11, 'Queen':12, 'King':13, 'Ace':14}"
   ]
  },
  {
   "cell_type": "code",
   "execution_count": null,
   "metadata": {},
   "outputs": [],
   "source": [
    "values[two_hearts.rank]"
   ]
  },
  {
   "cell_type": "code",
   "execution_count": null,
   "metadata": {},
   "outputs": [],
   "source": []
  },
  {
   "cell_type": "code",
   "execution_count": null,
   "metadata": {},
   "outputs": [],
   "source": [
    "class card:\n",
    "    def __init__(self, suit, rank):\n",
    "        self.suit = suit\n",
    "        self.rank = rank\n",
    "        self.value = values[rank]\n",
    "        \n",
    "    def __str__(self):\n",
    "        return self.rank + \" of \" + self.suit"
   ]
  },
  {
   "cell_type": "code",
   "execution_count": null,
   "metadata": {},
   "outputs": [],
   "source": [
    "three_of_clubs = card('Clubs', 'Three')"
   ]
  },
  {
   "cell_type": "code",
   "execution_count": null,
   "metadata": {},
   "outputs": [],
   "source": [
    "three_of_clubs.value"
   ]
  },
  {
   "cell_type": "code",
   "execution_count": null,
   "metadata": {},
   "outputs": [],
   "source": [
    "two_hearts = card(\"Hearts\", \"Two\")"
   ]
  },
  {
   "cell_type": "code",
   "execution_count": null,
   "metadata": {},
   "outputs": [],
   "source": [
    "print(two_hearts)"
   ]
  },
  {
   "cell_type": "code",
   "execution_count": null,
   "metadata": {},
   "outputs": [],
   "source": [
    "two_hearts.rank"
   ]
  },
  {
   "cell_type": "code",
   "execution_count": null,
   "metadata": {},
   "outputs": [],
   "source": [
    "two_hearts.suit"
   ]
  },
  {
   "cell_type": "code",
   "execution_count": null,
   "metadata": {},
   "outputs": [],
   "source": [
    "two_hearts.value"
   ]
  },
  {
   "cell_type": "code",
   "execution_count": null,
   "metadata": {},
   "outputs": [],
   "source": [
    "two_hearts.value < three_of_clubs.value"
   ]
  },
  {
   "cell_type": "code",
   "execution_count": null,
   "metadata": {},
   "outputs": [],
   "source": [
    "two_hearts.value == three_of_clubs.value"
   ]
  },
  {
   "cell_type": "code",
   "execution_count": null,
   "metadata": {},
   "outputs": [],
   "source": [
    "import random\n",
    "suits = ('Hearts', 'Diamonds', 'spades', 'clubs')\n",
    "ranks = ('Two', 'Three', 'Four', 'Five', 'Six', 'Seven', 'Eight', 'Nine', 'Ten', 'Jack', 'Queen', 'King', 'Ace')\n",
    "values = {'Two':2, 'Three':3, 'Four':4, 'Five':5, 'Six':6, 'Seven':7, 'Eight':8,\n",
    "         'Nine':9, 'Ten':10, 'Jack':11, 'Queen':12, 'King':13, 'Ace':14}"
   ]
  },
  {
   "cell_type": "code",
   "execution_count": null,
   "metadata": {},
   "outputs": [],
   "source": [
    "class card:\n",
    "    def __init__(self, suit, rank):\n",
    "        self.suit = suit\n",
    "        self.rank = rank\n",
    "        self.value = values[rank]\n",
    "        \n",
    "    def __str__(self):\n",
    "        return self.rank + \" of \" + self.suit"
   ]
  },
  {
   "cell_type": "code",
   "execution_count": null,
   "metadata": {},
   "outputs": [],
   "source": [
    "two_hearts = card(\"Hearts\", \"Two\")"
   ]
  },
  {
   "cell_type": "code",
   "execution_count": null,
   "metadata": {},
   "outputs": [],
   "source": [
    "two_hearts.value"
   ]
  },
  {
   "cell_type": "markdown",
   "metadata": {},
   "source": [
    "## Deck Class"
   ]
  },
  {
   "cell_type": "code",
   "execution_count": null,
   "metadata": {},
   "outputs": [],
   "source": [
    "class deck:\n",
    "    def __init__(self):\n",
    "        \n",
    "        self.all_cards=[]\n",
    "        \n",
    "        for suit in suits:\n",
    "            for rank in ranks:\n",
    "                # create the card objects\n",
    "                created_card =card(suit, rank)\n",
    "                self.all_cards.append(created_card)\n",
    "                \n",
    "        "
   ]
  },
  {
   "cell_type": "code",
   "execution_count": null,
   "metadata": {},
   "outputs": [],
   "source": [
    "new_deck=deck()"
   ]
  },
  {
   "cell_type": "code",
   "execution_count": null,
   "metadata": {
    "scrolled": true
   },
   "outputs": [],
   "source": [
    "new_deck.all_cards"
   ]
  },
  {
   "cell_type": "code",
   "execution_count": null,
   "metadata": {},
   "outputs": [],
   "source": [
    "first_card = new_deck.all_cards[0]"
   ]
  },
  {
   "cell_type": "code",
   "execution_count": null,
   "metadata": {},
   "outputs": [],
   "source": [
    "print(first_card)"
   ]
  },
  {
   "cell_type": "code",
   "execution_count": null,
   "metadata": {},
   "outputs": [],
   "source": [
    "bottom_card = new_deck.all_cards[-1]"
   ]
  },
  {
   "cell_type": "code",
   "execution_count": null,
   "metadata": {},
   "outputs": [],
   "source": [
    "print(bottom_card)"
   ]
  },
  {
   "cell_type": "code",
   "execution_count": null,
   "metadata": {
    "scrolled": true
   },
   "outputs": [],
   "source": [
    "for card_object in new_deck.all_cards:\n",
    "    print(card_object)"
   ]
  },
  {
   "cell_type": "code",
   "execution_count": null,
   "metadata": {},
   "outputs": [],
   "source": [
    "class deck:\n",
    "    def __init__(self):\n",
    "        \n",
    "        self.all_cards=[]\n",
    "        \n",
    "        for suit in suits:\n",
    "            for rank in ranks:\n",
    "                # create the card objects\n",
    "                created_card =card(suit, rank)\n",
    "                self.all_cards.append(created_card)\n",
    "                \n",
    "    def shuffle(self):\n",
    "        random.shuffle(self.all_cards)\n",
    "                "
   ]
  },
  {
   "cell_type": "code",
   "execution_count": null,
   "metadata": {},
   "outputs": [],
   "source": [
    "new_deck = deck()"
   ]
  },
  {
   "cell_type": "code",
   "execution_count": null,
   "metadata": {},
   "outputs": [],
   "source": [
    "bottom_card = new_deck.all_cards[-1]"
   ]
  },
  {
   "cell_type": "code",
   "execution_count": null,
   "metadata": {},
   "outputs": [],
   "source": [
    "print(bottom_card)"
   ]
  },
  {
   "cell_type": "code",
   "execution_count": null,
   "metadata": {},
   "outputs": [],
   "source": [
    "new_deck.shuffle()"
   ]
  },
  {
   "cell_type": "code",
   "execution_count": null,
   "metadata": {},
   "outputs": [],
   "source": [
    "print(new_deck.all_cards[0])"
   ]
  },
  {
   "cell_type": "code",
   "execution_count": null,
   "metadata": {},
   "outputs": [],
   "source": [
    "class deck:\n",
    "    def __init__(self):\n",
    "        \n",
    "        self.all_cards=[]\n",
    "        \n",
    "        for suit in suits:\n",
    "            for rank in ranks:\n",
    "                # create the card objects\n",
    "                created_card =card(suit, rank)\n",
    "                self.all_cards.append(created_card)\n",
    "    \n",
    "    def shuffle(self):\n",
    "        random.shuffle(self.all_cards)\n",
    "              \n",
    "    \n",
    "    def deal_one(self):\n",
    "        return self.all_cards.pop()"
   ]
  },
  {
   "cell_type": "code",
   "execution_count": null,
   "metadata": {},
   "outputs": [],
   "source": [
    "new_deck = deck()"
   ]
  },
  {
   "cell_type": "code",
   "execution_count": null,
   "metadata": {},
   "outputs": [],
   "source": [
    "new_deck.shuffle()"
   ]
  },
  {
   "cell_type": "code",
   "execution_count": null,
   "metadata": {},
   "outputs": [],
   "source": [
    "mycard = new_deck.deal_one()"
   ]
  },
  {
   "cell_type": "code",
   "execution_count": null,
   "metadata": {},
   "outputs": [],
   "source": [
    "print(mycard)"
   ]
  },
  {
   "cell_type": "code",
   "execution_count": null,
   "metadata": {},
   "outputs": [],
   "source": [
    "len(new_deck.all_cards)"
   ]
  },
  {
   "cell_type": "code",
   "execution_count": null,
   "metadata": {},
   "outputs": [],
   "source": []
  },
  {
   "cell_type": "markdown",
   "metadata": {},
   "source": [
    "## Player class"
   ]
  },
  {
   "cell_type": "code",
   "execution_count": null,
   "metadata": {},
   "outputs": [],
   "source": [
    "class player:\n",
    "    \n",
    "    def __init__(self, name):\n",
    "        self.name = name\n",
    "        self.all_cards = []\n",
    "        \n",
    "    def remove_one(self):\n",
    "        return self.all_cards.pop(0)\n",
    "    \n",
    "    def add_cards(self, new_cards):\n",
    "        if type(new_cards)== type([]):\n",
    "            self.all_cards.extend(new_cards)\n",
    "        else:\n",
    "            self.all_cards.append(new_cards)\n",
    "    \n",
    "    def __str__(self):\n",
    "        return f'player {self.name} has {len(self.all_cards)} cards'\n",
    "    "
   ]
  },
  {
   "cell_type": "code",
   "execution_count": null,
   "metadata": {},
   "outputs": [],
   "source": [
    "new_player = player('jose')"
   ]
  },
  {
   "cell_type": "code",
   "execution_count": null,
   "metadata": {},
   "outputs": [],
   "source": [
    "print(new_player)"
   ]
  },
  {
   "cell_type": "code",
   "execution_count": null,
   "metadata": {},
   "outputs": [],
   "source": [
    "new_player.add_cards(mycard)"
   ]
  },
  {
   "cell_type": "code",
   "execution_count": null,
   "metadata": {},
   "outputs": [],
   "source": [
    "print(new_player)"
   ]
  },
  {
   "cell_type": "code",
   "execution_count": null,
   "metadata": {},
   "outputs": [],
   "source": [
    "print(new_player.all_cards[0])"
   ]
  },
  {
   "cell_type": "code",
   "execution_count": null,
   "metadata": {},
   "outputs": [],
   "source": [
    "print(new_player.all_cards[-1])"
   ]
  },
  {
   "cell_type": "code",
   "execution_count": null,
   "metadata": {},
   "outputs": [],
   "source": [
    "len(new_deck.all_cards)"
   ]
  },
  {
   "cell_type": "code",
   "execution_count": null,
   "metadata": {},
   "outputs": [],
   "source": [
    "len(new_player.all_cards)"
   ]
  },
  {
   "cell_type": "code",
   "execution_count": null,
   "metadata": {},
   "outputs": [],
   "source": [
    "new_player.add_cards([mycard, mycard, mycard])"
   ]
  },
  {
   "cell_type": "code",
   "execution_count": null,
   "metadata": {},
   "outputs": [],
   "source": [
    "print(new_player)"
   ]
  },
  {
   "cell_type": "code",
   "execution_count": null,
   "metadata": {},
   "outputs": [],
   "source": [
    "new_player.remove_one()"
   ]
  },
  {
   "cell_type": "code",
   "execution_count": null,
   "metadata": {},
   "outputs": [],
   "source": [
    "print(new_player)"
   ]
  },
  {
   "cell_type": "code",
   "execution_count": null,
   "metadata": {},
   "outputs": [],
   "source": []
  },
  {
   "cell_type": "code",
   "execution_count": null,
   "metadata": {},
   "outputs": [],
   "source": [
    "# Game setup\n",
    "\n",
    "player_one = player('one')\n",
    "player_two =player('two')\n",
    "\n",
    "new_deck = deck()\n",
    "new_deck.shuffle()\n",
    "\n",
    "for x in range(26):\n",
    "    player_one.add_cards(new_deck.deal_one())\n",
    "    player_two.add_cards(new_deck.deal_one())"
   ]
  },
  {
   "cell_type": "code",
   "execution_count": null,
   "metadata": {},
   "outputs": [],
   "source": [
    "len(player_one.all_cards)"
   ]
  },
  {
   "cell_type": "code",
   "execution_count": null,
   "metadata": {},
   "outputs": [],
   "source": [
    "game_on = True"
   ]
  },
  {
   "cell_type": "code",
   "execution_count": null,
   "metadata": {},
   "outputs": [],
   "source": []
  },
  {
   "cell_type": "code",
   "execution_count": null,
   "metadata": {},
   "outputs": [],
   "source": []
  },
  {
   "cell_type": "code",
   "execution_count": 1,
   "metadata": {},
   "outputs": [],
   "source": [
    "import random\n",
    "suits = ('Hearts', 'Diamonds', 'spades', 'clubs')\n",
    "ranks = ('Two', 'Three', 'Four', 'Five', 'Six', 'Seven', 'Eight', 'Nine', 'Ten', 'Jack', 'Queen', 'King', 'Ace')\n",
    "values = {'Two':2, 'Three':3, 'Four':4, 'Five':5, 'Six':6, 'Seven':7, 'Eight':8,\n",
    "         'Nine':9, 'Ten':10, 'Jack':11, 'Queen':12, 'King':13, 'Ace':14}"
   ]
  },
  {
   "cell_type": "code",
   "execution_count": 2,
   "metadata": {},
   "outputs": [],
   "source": [
    "class card:\n",
    "    def __init__(self, suit, rank):\n",
    "        self.suit = suit\n",
    "        self.rank = rank\n",
    "        self.value = values[rank]\n",
    "        \n",
    "    def __str__(self):\n",
    "        return self.rank + \" of \" + self.suit"
   ]
  },
  {
   "cell_type": "code",
   "execution_count": 3,
   "metadata": {},
   "outputs": [],
   "source": [
    "class deck:\n",
    "    def __init__(self):\n",
    "        \n",
    "        self.all_cards=[]\n",
    "        \n",
    "        for suit in suits:\n",
    "            for rank in ranks:\n",
    "                # create the card objects\n",
    "                created_card =card(suit, rank)\n",
    "                self.all_cards.append(created_card)\n",
    "    \n",
    "    def shuffle(self):\n",
    "        random.shuffle(self.all_cards)\n",
    "              \n",
    "    \n",
    "    def deal_one(self):\n",
    "        return self.all_cards.pop()"
   ]
  },
  {
   "cell_type": "code",
   "execution_count": 4,
   "metadata": {},
   "outputs": [],
   "source": [
    "class player:\n",
    "    \n",
    "    def __init__(self, name):\n",
    "        self.name = name\n",
    "        self.all_cards = []\n",
    "        \n",
    "    def remove_one(self):\n",
    "        return self.all_cards.pop(0)\n",
    "    \n",
    "    def add_cards(self, new_cards):\n",
    "        if type(new_cards)== type([]):\n",
    "            self.all_cards.extend(new_cards)\n",
    "        else:\n",
    "            self.all_cards.append(new_cards)\n",
    "    \n",
    "    def __str__(self):\n",
    "        return f'player {self.name} has {len(self.all_cards)} cards'\n",
    "    "
   ]
  },
  {
   "cell_type": "code",
   "execution_count": 5,
   "metadata": {},
   "outputs": [],
   "source": [
    "# Game setup\n",
    "\n",
    "player_one = player('one')\n",
    "player_two =player('two')\n",
    "\n",
    "new_deck = deck()\n",
    "new_deck.shuffle()\n",
    "\n",
    "for x in range(26):\n",
    "    player_one.add_cards(new_deck.deal_one())\n",
    "    player_two.add_cards(new_deck.deal_one())"
   ]
  },
  {
   "cell_type": "code",
   "execution_count": 6,
   "metadata": {},
   "outputs": [],
   "source": [
    "game_on = True"
   ]
  },
  {
   "cell_type": "code",
   "execution_count": 7,
   "metadata": {
    "scrolled": true
   },
   "outputs": [
    {
     "name": "stdout",
     "output_type": "stream",
     "text": [
      "round 1\n",
      "round 2\n",
      "round 3\n",
      "round 4\n",
      "round 5\n",
      "round 6\n",
      "round 7\n",
      "round 8\n",
      "round 9\n",
      "round 10\n",
      "round 11\n",
      "round 12\n",
      "round 13\n",
      "round 14\n",
      "WAR!\n",
      "round 15\n",
      "round 16\n",
      "round 17\n",
      "round 18\n",
      "round 19\n",
      "round 20\n",
      "round 21\n",
      "round 22\n",
      "round 23\n",
      "round 24\n",
      "round 25\n",
      "round 26\n",
      "round 27\n",
      "WAR!\n",
      "round 28\n",
      "round 29\n",
      "round 30\n",
      "round 31\n",
      "round 32\n",
      "round 33\n",
      "WAR!\n",
      "round 34\n",
      "round 35\n",
      "round 36\n",
      "WAR!\n",
      "round 37\n",
      "round 38\n",
      "round 39\n",
      "round 40\n",
      "round 41\n",
      "round 42\n",
      "round 43\n",
      "round 44\n",
      "WAR!\n",
      "round 45\n",
      "round 46\n",
      "round 47\n",
      "round 48\n",
      "round 49\n",
      "round 50\n",
      "round 51\n",
      "round 52\n",
      "round 53\n",
      "round 54\n",
      "round 55\n",
      "round 56\n",
      "round 57\n",
      "round 58\n",
      "round 59\n",
      "round 60\n",
      "round 61\n",
      "round 62\n",
      "round 63\n",
      "WAR!\n",
      "round 64\n",
      "WAR!\n",
      "Player Two unable to declare war\n",
      "Player One wins\n"
     ]
    }
   ],
   "source": [
    "round_num = 0\n",
    "\n",
    "while game_on:\n",
    "    \n",
    "    round_num += 1\n",
    "    \n",
    "    print(f'round {round_num}')\n",
    "    \n",
    "    if len(player_one.all_cards)==0:\n",
    "        print('Player One, out of cards! Player Two Wins!')\n",
    "        game_on = False\n",
    "        break\n",
    "        \n",
    "    if len(player_two.all_cards)==0:\n",
    "        print('Player Two, out of cards! Player One Wins!')\n",
    "        game_on = False\n",
    "        break\n",
    "    \n",
    "    # Start a new round\n",
    "    player_one_cards = []\n",
    "    player_one_cards.append(player_one.remove_one())\n",
    "    \n",
    "    player_two_cards = []\n",
    "    player_two_cards.append(player_two.remove_one())\n",
    "    \n",
    "    at_war = True\n",
    "    \n",
    "    while at_war:\n",
    "        \n",
    "        if player_one_cards[-1].value > player_two_cards[-1].value:\n",
    "            player_one.add_cards(player_one_cards)\n",
    "            player_one.add_cards(player_two_cards)\n",
    "            \n",
    "            at_war = False\n",
    "            \n",
    "        elif player_one_cards[-1].value < player_two_cards[-1].value:\n",
    "            player_two.add_cards(player_one_cards)\n",
    "            player_two.add_cards(player_two_cards)\n",
    "            \n",
    "            at_war = False\n",
    "        \n",
    "        else:\n",
    "            print('WAR!')\n",
    "            if len(player_one.all_cards) < 3:\n",
    "                print('Player One unable to declare war')\n",
    "                print('Player Two wins')\n",
    "                game_on = False\n",
    "                break\n",
    "                \n",
    "            elif len(player_two.all_cards) < 3:\n",
    "                print('Player Two unable to declare war')\n",
    "                print('Player One wins')\n",
    "                game_on = False\n",
    "                break\n",
    "                \n",
    "            else:\n",
    "                # Should be 5 cards. But you can technically change this number to anything you want. Higher value means shorter games.\n",
    "                for num in range(3):\n",
    "                    player_one_cards.append(player_one.remove_one())\n",
    "                    player_two_cards.append(player_two.remove_one())\n",
    "    "
   ]
  },
  {
   "cell_type": "code",
   "execution_count": null,
   "metadata": {},
   "outputs": [],
   "source": []
  },
  {
   "cell_type": "code",
   "execution_count": null,
   "metadata": {},
   "outputs": [],
   "source": []
  },
  {
   "cell_type": "markdown",
   "metadata": {},
   "source": [
    "# Computer vs Human"
   ]
  },
  {
   "cell_type": "code",
   "execution_count": 1,
   "metadata": {},
   "outputs": [],
   "source": [
    "import random\n",
    "suits = ('Hearts', 'Diamonds', 'spades', 'clubs')\n",
    "ranks = ('Two', 'Three', 'Four', 'Five', 'Six', 'Seven', 'Eight', 'Nine', 'Ten', 'Jack', 'Queen', 'King', 'Ace')\n",
    "values = {'Two':2, 'Three':3, 'Four':4, 'Five':5, 'Six':6, 'Seven':7, 'Eight':8,\n",
    "         'Nine':9, 'Ten':10, 'Jack':10, 'Queen':10, 'King':10, 'Ace':11}\n",
    "\n",
    "playing = True"
   ]
  },
  {
   "cell_type": "code",
   "execution_count": 2,
   "metadata": {},
   "outputs": [],
   "source": [
    "class card:\n",
    "    def __init__(self, suit, rank):\n",
    "        self.suit = suit\n",
    "        self.rank = rank\n",
    "        self.value = values[rank]\n",
    "        \n",
    "    def __str__(self):\n",
    "        return self.rank + \" of \" + self.suit"
   ]
  },
  {
   "cell_type": "code",
   "execution_count": 11,
   "metadata": {},
   "outputs": [],
   "source": [
    "class deck:\n",
    "    def __init__(self):\n",
    "        \n",
    "        self.deck=[]\n",
    "        \n",
    "        for suit in suits:\n",
    "            for rank in ranks:\n",
    "                # create the card objects\n",
    "                self.deck.append(card(suit, rank))\n",
    "    \n",
    "    def __str__(self):\n",
    "        deck_comp = ''\n",
    "        for card in self.deck:\n",
    "            deck_comp += '\\n' + card.__str__()\n",
    "        return \"The deck has : \"+deck_comp\n",
    "    \n",
    "    def shuffle(self):\n",
    "        random.shuffle(self.deck)\n",
    "              \n",
    "    \n",
    "    def deal(self):\n",
    "        single_card = self.deck.pop()\n",
    "        return single_card"
   ]
  },
  {
   "cell_type": "code",
   "execution_count": 12,
   "metadata": {},
   "outputs": [
    {
     "name": "stdout",
     "output_type": "stream",
     "text": [
      "The deck has : \n",
      "Jack of spades\n",
      "Ten of spades\n",
      "Eight of Hearts\n",
      "Nine of Diamonds\n",
      "Queen of Hearts\n",
      "Ten of Hearts\n",
      "Queen of clubs\n",
      "Four of clubs\n",
      "Eight of spades\n",
      "King of spades\n",
      "Queen of spades\n",
      "Two of spades\n",
      "Six of spades\n",
      "Ten of clubs\n",
      "Three of Hearts\n",
      "Five of Diamonds\n",
      "Eight of clubs\n",
      "Three of spades\n",
      "Three of clubs\n",
      "Three of Diamonds\n",
      "King of Diamonds\n",
      "Ten of Diamonds\n",
      "Five of spades\n",
      "Six of Diamonds\n",
      "Five of clubs\n",
      "Four of spades\n",
      "Six of Hearts\n",
      "King of Hearts\n",
      "Four of Diamonds\n",
      "Eight of Diamonds\n",
      "Seven of clubs\n",
      "Seven of Hearts\n",
      "Nine of spades\n",
      "Six of clubs\n",
      "Ace of clubs\n",
      "Two of Diamonds\n",
      "Seven of Diamonds\n",
      "Nine of Hearts\n",
      "Ace of Hearts\n",
      "Five of Hearts\n",
      "Two of clubs\n",
      "King of clubs\n",
      "Nine of clubs\n",
      "Ace of Diamonds\n",
      "Jack of Diamonds\n",
      "Four of Hearts\n",
      "Queen of Diamonds\n",
      "Jack of Hearts\n",
      "Jack of clubs\n",
      "Two of Hearts\n",
      "Ace of spades\n",
      "Seven of spades\n"
     ]
    }
   ],
   "source": [
    "test_deck = deck()\n",
    "test_deck.shuffle()\n",
    "print(test_deck)"
   ]
  },
  {
   "cell_type": "code",
   "execution_count": 15,
   "metadata": {},
   "outputs": [],
   "source": [
    "class hand:\n",
    "    def __init__(self):\n",
    "        self.cards = []\n",
    "        self.value = 0\n",
    "        self.aces = 0\n",
    "        \n",
    "    def add_card(self, card):\n",
    "        \n",
    "        self.cards.append(card)\n",
    "        self.value += values[card.rank]\n",
    "        \n",
    "        if card.rank == 'Ace':\n",
    "            self.aces += 1\n",
    "        \n",
    "    def adjust_for_ace(self):\n",
    "        while self.value > 21 and self.aces>0:\n",
    "            self.value -= 10\n",
    "            self.aces -= 1"
   ]
  },
  {
   "cell_type": "code",
   "execution_count": 19,
   "metadata": {},
   "outputs": [],
   "source": [
    "zero = 0\n",
    "one = 1\n",
    "two = 2"
   ]
  },
  {
   "cell_type": "code",
   "execution_count": 25,
   "metadata": {},
   "outputs": [
    {
     "name": "stdout",
     "output_type": "stream",
     "text": [
      "True\n"
     ]
    }
   ],
   "source": [
    "if 2:\n",
    "    print('True')"
   ]
  },
  {
   "cell_type": "code",
   "execution_count": null,
   "metadata": {},
   "outputs": [],
   "source": []
  },
  {
   "cell_type": "code",
   "execution_count": 16,
   "metadata": {},
   "outputs": [
    {
     "name": "stdout",
     "output_type": "stream",
     "text": [
      "Six of clubs\n",
      "6\n"
     ]
    }
   ],
   "source": [
    "test_deck = deck()\n",
    "test_deck.shuffle()\n",
    "\n",
    "test_player = hand()\n",
    "pulled_card = test_deck.deal()\n",
    "print(pulled_card)\n",
    "test_player.add_card(pulled_card)\n",
    "print(test_player.value)"
   ]
  },
  {
   "cell_type": "code",
   "execution_count": 17,
   "metadata": {},
   "outputs": [],
   "source": [
    "test_player.add_card(test_deck.deal())"
   ]
  },
  {
   "cell_type": "code",
   "execution_count": 18,
   "metadata": {},
   "outputs": [
    {
     "data": {
      "text/plain": [
       "9"
      ]
     },
     "execution_count": 18,
     "metadata": {},
     "output_type": "execute_result"
    }
   ],
   "source": [
    "test_player.value"
   ]
  },
  {
   "cell_type": "code",
   "execution_count": null,
   "metadata": {},
   "outputs": [],
   "source": [
    "class chips:\n",
    "    \n",
    "    def __init__(self, total = 100):\n",
    "        self.total = total\n",
    "        self.bet = 0\n",
    "        \n",
    "    def win_bet(self):\n",
    "        self.total += self.bet\n",
    "        \n",
    "    def lose_bet(self):\n",
    "        self.total -= self.bet"
   ]
  },
  {
   "cell_type": "code",
   "execution_count": null,
   "metadata": {},
   "outputs": [],
   "source": []
  },
  {
   "cell_type": "code",
   "execution_count": null,
   "metadata": {},
   "outputs": [],
   "source": []
  },
  {
   "cell_type": "code",
   "execution_count": null,
   "metadata": {},
   "outputs": [],
   "source": []
  },
  {
   "cell_type": "code",
   "execution_count": 1,
   "metadata": {},
   "outputs": [
    {
     "name": "stdout",
     "output_type": "stream",
     "text": [
      "Welcome to blackjack\n",
      "How many chips would you like to bet?100\n",
      "\n",
      " Dealer's Hand :\n",
      "<card hidden>\n",
      " Four of spades\n",
      "\n",
      " Player's Hand : \n",
      "Two of Hearts\n",
      "Nine of Hearts\n",
      "Would you like to Hit or Stand? Enter 'h' or 's'h\n",
      "\n",
      " Dealer's Hand :\n",
      "<card hidden>\n",
      " Four of spades\n",
      "\n",
      " Player's Hand : \n",
      "Two of Hearts\n",
      "Nine of Hearts\n",
      "Seven of Diamonds\n",
      "Would you like to Hit or Stand? Enter 'h' or 's'h\n",
      "\n",
      " Dealer's Hand :\n",
      "<card hidden>\n",
      " Four of spades\n",
      "\n",
      " Player's Hand : \n",
      "Two of Hearts\n",
      "Nine of Hearts\n",
      "Seven of Diamonds\n",
      "Three of clubs\n",
      "Would you like to Hit or Stand? Enter 'h' or 's'h\n",
      "\n",
      " Dealer's Hand :\n",
      "<card hidden>\n",
      " Four of spades\n",
      "\n",
      " Player's Hand : \n",
      "Two of Hearts\n",
      "Nine of Hearts\n",
      "Seven of Diamonds\n",
      "Three of clubs\n",
      "Ten of spades\n",
      "Player busts!\n",
      "\n",
      " player total chips are at : 0\n",
      "would you like to play another hand ? y/nn\n",
      "Thank you for playing!\n"
     ]
    }
   ],
   "source": [
    "import random\n",
    "suits = ('Hearts', 'Diamonds', 'spades', 'clubs')\n",
    "ranks = ('Two', 'Three', 'Four', 'Five', 'Six', 'Seven', 'Eight', 'Nine', 'Ten', 'Jack', 'Queen', 'King', 'Ace')\n",
    "values = {'Two':2, 'Three':3, 'Four':4, 'Five':5, 'Six':6, 'Seven':7, 'Eight':8,\n",
    "         'Nine':9, 'Ten':10, 'Jack':10, 'Queen':10, 'King':10, 'Ace':11}\n",
    "\n",
    "playing = True\n",
    "\n",
    "class card:\n",
    "    def __init__(self, suit, rank):\n",
    "        self.suit = suit\n",
    "        self.rank = rank\n",
    "        \n",
    "    def __str__(self):\n",
    "        return self.rank + \" of \" + self.suit\n",
    "\n",
    "\n",
    "    \n",
    "class deck:\n",
    "    def __init__(self):\n",
    "        \n",
    "        self.deck=[]\n",
    "        \n",
    "        for suit in suits:\n",
    "            for rank in ranks:\n",
    "                # create the card objects\n",
    "                self.deck.append(card(suit, rank))\n",
    "    \n",
    "    def __str__(self):\n",
    "        deck_comp = ''\n",
    "        for card in self.deck:\n",
    "            deck_comp += '\\n' + card.__str__()\n",
    "        return \"The deck has : \"+deck_comp\n",
    "    \n",
    "    def shuffle(self):\n",
    "        random.shuffle(self.deck)\n",
    "              \n",
    "    \n",
    "    def deal(self):\n",
    "        single_card = self.deck.pop()\n",
    "        return single_card\n",
    "\n",
    "\n",
    "    \n",
    "class hand:\n",
    "    def __init__(self):\n",
    "        self.cards = []\n",
    "        self.value = 0\n",
    "        self.aces = 0\n",
    "        \n",
    "    def add_card(self, card):\n",
    "        \n",
    "        self.cards.append(card)\n",
    "        self.value += values[card.rank]\n",
    "        \n",
    "        if card.rank == 'Ace':\n",
    "            self.aces += 1\n",
    "        \n",
    "    def adjust_for_ace(self):\n",
    "        while self.value > 21 and self.aces>0:\n",
    "            self.value -= 10\n",
    "            self.aces -= 1\n",
    "\n",
    "\n",
    "            \n",
    "class chips:\n",
    "    \n",
    "    def __init__(self, total = 100):\n",
    "        self.total = total\n",
    "        self.bet = 0\n",
    "        \n",
    "    def win_bet(self):\n",
    "        self.total += self.bet\n",
    "        \n",
    "    def lose_bet(self):\n",
    "        self.total -= self.bet\n",
    "\n",
    "        \n",
    "        \n",
    "\n",
    "def take_bet(chips):\n",
    "    while True:\n",
    "        try:\n",
    "            chips.bet = int(input('How many chips would you like to bet?'))\n",
    "        except ValueError:\n",
    "            print('Sorry, a bet must be an integer!')\n",
    "        else:\n",
    "            if chips.bet > chips.total:\n",
    "                print(\"Sorry, your bet can't exceed\", chips.total)\n",
    "            else:\n",
    "                break\n",
    "\n",
    "                \n",
    "                \n",
    "def hit(deck, hand):\n",
    "    hand.add_card(deck.deal())\n",
    "    hand.adjust_for_ace()\n",
    "\n",
    "    \n",
    "    \n",
    "    \n",
    "def hit_or_stand(deck, hand):\n",
    "    global playing\n",
    "    \n",
    "    while True:\n",
    "        x = input('Would you like to Hit or Stand? Enter \\'h\\' or \\'s\\'')\n",
    "        \n",
    "        if x[0].lower() == 'h':\n",
    "            hit(deck, hand)\n",
    "            \n",
    "        elif x[0].lower() == 's':\n",
    "            print('Player stands. Dealer is playing.')\n",
    "        \n",
    "        else:\n",
    "            print('Sorry, please try agian.')\n",
    "            continue\n",
    "        break\n",
    "\n",
    "        \n",
    "        \n",
    "def show_some(player, dealer):\n",
    "    print('\\n Dealer\\'s Hand :')\n",
    "    print('<card hidden>')\n",
    "    print('', dealer.cards[1])\n",
    "    print('\\n Player\\'s Hand : ', *player.cards, sep='\\n')\n",
    "    \n",
    "    \n",
    "    \n",
    "def show_all(player, dealer):\n",
    "    print(\"\\n Dealer's Hand : \", *dealer.cards, sep='\\n')\n",
    "    print(\"Dealer's Hand =\",dealer.value)\n",
    "    print(\"\\nPlayer's Hand:\", *player.cards, sep='\\n ')\n",
    "    print(\"Player's Hand =\",player.value)\n",
    "\n",
    "    \n",
    "    \n",
    "def player_busts(player,dealer,chips):\n",
    "    print(\"Player busts!\")\n",
    "    chips.lose_bet()\n",
    "\n",
    "    \n",
    "    \n",
    "def player_wins(player,dealer,chips):\n",
    "    print(\"Player wins!\")\n",
    "    chips.win_bet()\n",
    "\n",
    "    \n",
    "    \n",
    "def dealer_busts(player,dealer,chips):\n",
    "    print(\"Dealer busts!\")\n",
    "    chips.win_bet()\n",
    "    \n",
    "    \n",
    "    \n",
    "def dealer_wins(player,dealer,chips):\n",
    "    print(\"Dealer wins!\")\n",
    "    chips.lose_bet()\n",
    "    \n",
    "    \n",
    "    \n",
    "def push(player,dealer):\n",
    "    print(\"Dealer and Player tie! It's a push.\")\n",
    "    \n",
    "\n",
    "while True:\n",
    "    print('Welcome to blackjack')\n",
    "    deck = deck()\n",
    "    deck.shuffle()\n",
    "    \n",
    "    player_hand = hand()\n",
    "    player_hand.add_card(deck.deal())\n",
    "    player_hand.add_card(deck.deal())\n",
    "    \n",
    "    dealer_hand = hand()\n",
    "    dealer_hand.add_card(deck.deal())\n",
    "    dealer_hand.add_card(deck.deal())\n",
    "    \n",
    "    player_chips = chips()\n",
    "    \n",
    "    take_bet(player_chips)\n",
    "    \n",
    "    show_some(player_hand, dealer_hand)\n",
    "    \n",
    "    while playing:\n",
    "        hit_or_stand(deck, player_hand)\n",
    "        \n",
    "        show_some(player_hand, dealer_hand)\n",
    "        \n",
    "        if player_hand.value>21:\n",
    "            player_busts(player_hand, dealer_hand,player_chips)\n",
    "            break\n",
    "            \n",
    "    if player_hand.value<=21:\n",
    "        while dealer_hand.value<player_hand.value:\n",
    "            hit(deck, dealer_hand)\n",
    "    \n",
    "        show_all(player_hand, dealer_hand)\n",
    "        \n",
    "        if dealer_hand.value>21:\n",
    "            dealer_busts(player_hand, dealer_hand, player_chips)\n",
    "        \n",
    "        elif dealer_hand.value>player_hand.value:\n",
    "            dealer_wins(player_hand, dealer_hand, player_chips)\n",
    "        \n",
    "        elif dealer_hand.value>player_hand.value:\n",
    "            player_wins(player_hand, dealer_hand, player_chips)\n",
    "        \n",
    "        else:\n",
    "            push(player_hand, dealer_hand)\n",
    "            \n",
    "    print('\\n player total chips are at : {}'.format(player_chips.total))\n",
    "    \n",
    "    new_game = input('would you like to play another hand ? y/n')\n",
    "    \n",
    "    if new_game[0].lower()=='y':\n",
    "        playing = True\n",
    "        continue\n",
    "    \n",
    "    else:\n",
    "        print('Thank you for playing!')\n",
    "        break"
   ]
  },
  {
   "cell_type": "code",
   "execution_count": null,
   "metadata": {},
   "outputs": [],
   "source": []
  },
  {
   "cell_type": "code",
   "execution_count": null,
   "metadata": {},
   "outputs": [],
   "source": []
  },
  {
   "cell_type": "code",
   "execution_count": null,
   "metadata": {},
   "outputs": [],
   "source": [
    "mylist = [1,2,3,4,5]\n",
    "shuffle_list = random.shuffle(mylist)\n",
    "mylist"
   ]
  },
  {
   "cell_type": "code",
   "execution_count": null,
   "metadata": {},
   "outputs": [],
   "source": [
    "shuffle_list"
   ]
  },
  {
   "cell_type": "code",
   "execution_count": null,
   "metadata": {},
   "outputs": [],
   "source": [
    "type(shuffle_list)"
   ]
  },
  {
   "cell_type": "code",
   "execution_count": null,
   "metadata": {},
   "outputs": [],
   "source": []
  }
 ],
 "metadata": {
  "kernelspec": {
   "display_name": "Python 3",
   "language": "python",
   "name": "python3"
  },
  "language_info": {
   "codemirror_mode": {
    "name": "ipython",
    "version": 3
   },
   "file_extension": ".py",
   "mimetype": "text/x-python",
   "name": "python",
   "nbconvert_exporter": "python",
   "pygments_lexer": "ipython3",
   "version": "3.7.4"
  }
 },
 "nbformat": 4,
 "nbformat_minor": 2
}
