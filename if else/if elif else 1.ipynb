{
 "cells": [
  {
   "cell_type": "code",
   "execution_count": 36,
   "metadata": {},
   "outputs": [
    {
     "name": "stdout",
     "output_type": "stream",
     "text": [
      "number=67\n",
      "number is odd\n"
     ]
    }
   ],
   "source": [
    "n=int(input(\"number=\"))\n",
    "if n%2 == 0:\n",
    "    print(\"number is even\")\n",
    "else:\n",
    "    print(\"number is odd\")"
   ]
  },
  {
   "cell_type": "code",
   "execution_count": 37,
   "metadata": {},
   "outputs": [
    {
     "name": "stdout",
     "output_type": "stream",
     "text": [
      "a=67\n",
      "b=89\n",
      "b is greatest\n"
     ]
    }
   ],
   "source": [
    "a=int(input(\"a=\"))\n",
    "b=int(input(\"b=\"))\n",
    "if a>b:\n",
    "    print(\"{0} is greatest\".format(\"a\"))\n",
    "else:\n",
    "    print(\"{0} is greatest\".format(\"b\"))    "
   ]
  },
  {
   "cell_type": "code",
   "execution_count": 38,
   "metadata": {},
   "outputs": [
    {
     "name": "stdout",
     "output_type": "stream",
     "text": [
      "a=78\n",
      "b=56\n",
      "c=8\n",
      "a is greatest\n"
     ]
    }
   ],
   "source": [
    "a=int(input(\"a=\"))\n",
    "b=float(input(\"b=\"))\n",
    "c=int(input(\"c=\"))\n",
    "if a>b and a>c:\n",
    "    print(\"{0} is greatest\".format(\"a\"))\n",
    "elif b>a and b>c:\n",
    "    print(\"{0} is greatest\".format(\"b\"))\n",
    "else:\n",
    "    print(\"c is greatest\")"
   ]
  },
  {
   "cell_type": "code",
   "execution_count": 39,
   "metadata": {},
   "outputs": [
    {
     "name": "stdout",
     "output_type": "stream",
     "text": [
      "a=56\n",
      "b=78\n",
      "c=45\n",
      "d=34\n",
      "b is greatest\n"
     ]
    }
   ],
   "source": [
    "a=int(input(\"a=\"))\n",
    "b=float(input(\"b=\"))\n",
    "c=int(input(\"c=\"))\n",
    "d=int(input(\"d=\"))\n",
    "if a>b and a>c and a>d:\n",
    "    print(\"{0} is greatest\".format(\"a\"))\n",
    "elif b>a and b>c and b>d:\n",
    "    print(\"{0} is greatest\".format(\"b\"))\n",
    "elif c>a and c>b and c>d:\n",
    "    print(\"c is greatest\")\n",
    "else:\n",
    "    print(\"d is greatest\")"
   ]
  },
  {
   "cell_type": "code",
   "execution_count": 40,
   "metadata": {},
   "outputs": [
    {
     "name": "stdout",
     "output_type": "stream",
     "text": [
      "a=45\n",
      "b=45\n",
      "c=45\n",
      "d=45\n",
      "e=45\n",
      "45 is greatest\n"
     ]
    }
   ],
   "source": [
    "a=int(input(\"a=\"))\n",
    "b=float(input(\"b=\"))\n",
    "c=int(input(\"c=\"))\n",
    "d=int(input(\"d=\"))\n",
    "e=int(input(\"e=\"))\n",
    "if a>b and a>c and a>d and a>e:\n",
    "    print(\"{0} is greatest\".format(\"a\"))\n",
    "elif b>a and b>c and b>d and b>e:\n",
    "    print(\"{0} is greatest\".format(\"b\"))\n",
    "elif c>a and c>b and c>d and c>e:\n",
    "    print(\"c is greatest\")\n",
    "elif d>a and d>b and d>c and d>e:\n",
    "    print(f\"{d} is greatest\")\n",
    "else:\n",
    "    print(f\"{e} is greatest\")"
   ]
  },
  {
   "cell_type": "code",
   "execution_count": 41,
   "metadata": {},
   "outputs": [
    {
     "name": "stdout",
     "output_type": "stream",
     "text": [
      "marks=45\n",
      "Fail\n"
     ]
    }
   ],
   "source": [
    "sub=int(input(\"marks=\",))\n",
    "if sub>90:\n",
    "    print(\"Grade A\")\n",
    "elif sub>80 and sub<=90:\n",
    "    print(\"Grade B\")\n",
    "elif sub>70 and sub<=80:\n",
    "    print(\"Grade C\")\n",
    "elif sub>60 and sub<=70:\n",
    "    print(\"Grade D\")\n",
    "else:\n",
    "    print(\"Fail\")"
   ]
  },
  {
   "cell_type": "code",
   "execution_count": 45,
   "metadata": {},
   "outputs": [
    {
     "name": "stdout",
     "output_type": "stream",
     "text": [
      "number8\n",
      "number is prime\n"
     ]
    }
   ],
   "source": [
    "n=int(input(\"number\"))\n",
    "if n%n==0 and n%1==0:\n",
    "    print(\"number is prime\")\n",
    "else:\n",
    "    print(\"number is not prime\")"
   ]
  },
  {
   "cell_type": "code",
   "execution_count": null,
   "metadata": {},
   "outputs": [],
   "source": []
  }
 ],
 "metadata": {
  "kernelspec": {
   "display_name": "Python 3",
   "language": "python",
   "name": "python3"
  },
  "language_info": {
   "codemirror_mode": {
    "name": "ipython",
    "version": 3
   },
   "file_extension": ".py",
   "mimetype": "text/x-python",
   "name": "python",
   "nbconvert_exporter": "python",
   "pygments_lexer": "ipython3",
   "version": "3.7.4"
  }
 },
 "nbformat": 4,
 "nbformat_minor": 2
}
