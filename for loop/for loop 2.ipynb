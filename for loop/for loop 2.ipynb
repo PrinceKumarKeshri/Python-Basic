{
 "cells": [
  {
   "cell_type": "code",
   "execution_count": 13,
   "metadata": {},
   "outputs": [
    {
     "name": "stdout",
     "output_type": "stream",
     "text": [
      "odd  number  = 1\n",
      "even number  = 2\n",
      "odd  number  = 3\n",
      "even number  = 4\n",
      "odd  number  = 5\n",
      "even number  = 6\n",
      "odd  number  = 7\n",
      "even number  = 8\n",
      "odd  number  = 9\n",
      "even number  = 10\n"
     ]
    }
   ],
   "source": [
    "l=[1,2,3,4,5,6,7,8,9,10]\n",
    "for n in l:\n",
    "    if n % 2 == 0:\n",
    "        print(f\"even number  = {n}\")\n",
    "    else:\n",
    "        print(f\"odd  number  = {n}\")"
   ]
  },
  {
   "cell_type": "code",
   "execution_count": null,
   "metadata": {},
   "outputs": [],
   "source": [
    "string=\"Hello world\"\n",
    "for letter in (\"\")"
   ]
  }
 ],
 "metadata": {
  "kernelspec": {
   "display_name": "Python 3",
   "language": "python",
   "name": "python3"
  },
  "language_info": {
   "codemirror_mode": {
    "name": "ipython",
    "version": 3
   },
   "file_extension": ".py",
   "mimetype": "text/x-python",
   "name": "python",
   "nbconvert_exporter": "python",
   "pygments_lexer": "ipython3",
   "version": "3.7.4"
  }
 },
 "nbformat": 4,
 "nbformat_minor": 2
}
