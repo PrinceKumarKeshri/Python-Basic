{
 "cells": [
  {
   "cell_type": "code",
   "execution_count": 9,
   "metadata": {},
   "outputs": [
    {
     "name": "stdout",
     "output_type": "stream",
     "text": [
      "even number  = 2\n",
      "odd  number  = 11\n",
      "even number  = 18\n",
      "odd  number  = 3\n",
      "even number  = 4\n",
      "odd  number  = 5\n",
      "odd  number  = 7\n",
      "even number  = 8\n",
      "odd  number  = 9\n",
      "even number  = 10\n"
     ]
    }
   ],
   "source": [
    "l=[2,11,18,3,4,5,7,8,9,10]\n",
    "for n in l:\n",
    "    if n % 2 == 0:\n",
    "        print(f\"even number  = {n}\")\n",
    "    else:\n",
    "        print(f\"odd  number  = {n}\")"
   ]
  },
  {
   "cell_type": "code",
   "execution_count": 10,
   "metadata": {},
   "outputs": [
    {
     "name": "stdout",
     "output_type": "stream",
     "text": [
      "H\n",
      "e\n",
      "l\n",
      "l\n",
      "o\n",
      " \n",
      "w\n",
      "o\n",
      "r\n",
      "l\n",
      "d\n"
     ]
    }
   ],
   "source": [
    "string=\"Hello world\"\n",
    "for letter in string:\n",
    "    print(letter)"
   ]
  },
  {
   "cell_type": "code",
   "execution_count": 11,
   "metadata": {},
   "outputs": [
    {
     "data": {
      "text/plain": [
       "10"
      ]
     },
     "execution_count": 11,
     "metadata": {},
     "output_type": "execute_result"
    }
   ],
   "source": [
    "len(l)"
   ]
  },
  {
   "cell_type": "code",
   "execution_count": 2,
   "metadata": {},
   "outputs": [
    {
     "name": "stdout",
     "output_type": "stream",
     "text": [
      "l[0]= 2\n",
      "l[1]= 11\n",
      "l[2]= 18\n",
      "l[3]= 3\n",
      "l[4]= 4\n",
      "l[5]= 5\n",
      "l[6]= 7\n",
      "l[7]= 8\n",
      "l[8]= 9\n",
      "l[9]= 10\n"
     ]
    }
   ],
   "source": [
    "l=[2,11,18,3,4,5,7,8,9,10]\n",
    "for i in range(len(l)):\n",
    "    print(\"l[{0}]= {1}\".format(i,l[i]))\n",
    "    "
   ]
  },
  {
   "cell_type": "code",
   "execution_count": 22,
   "metadata": {},
   "outputs": [
    {
     "name": "stdout",
     "output_type": "stream",
     "text": [
      "2\n",
      "11\n",
      "18\n",
      "3\n",
      "4\n",
      "5\n",
      "7\n",
      "8\n",
      "9\n",
      "10\n"
     ]
    }
   ],
   "source": [
    "for i in l:\n",
    "    print(i)"
   ]
  },
  {
   "cell_type": "code",
   "execution_count": 23,
   "metadata": {},
   "outputs": [
    {
     "ename": "TypeError",
     "evalue": "'list' object cannot be interpreted as an integer",
     "output_type": "error",
     "traceback": [
      "\u001b[1;31m---------------------------------------------------------------------------\u001b[0m",
      "\u001b[1;31mTypeError\u001b[0m                                 Traceback (most recent call last)",
      "\u001b[1;32m<ipython-input-23-3981930b2dab>\u001b[0m in \u001b[0;36m<module>\u001b[1;34m\u001b[0m\n\u001b[1;32m----> 1\u001b[1;33m \u001b[1;32mfor\u001b[0m \u001b[0mi\u001b[0m \u001b[1;32min\u001b[0m \u001b[0mrange\u001b[0m\u001b[1;33m(\u001b[0m\u001b[0ml\u001b[0m\u001b[1;33m)\u001b[0m\u001b[1;33m:\u001b[0m\u001b[1;33m\u001b[0m\u001b[1;33m\u001b[0m\u001b[0m\n\u001b[0m\u001b[0;32m      2\u001b[0m     \u001b[0mprint\u001b[0m\u001b[1;33m(\u001b[0m\u001b[0mi\u001b[0m\u001b[1;33m)\u001b[0m\u001b[1;33m\u001b[0m\u001b[1;33m\u001b[0m\u001b[0m\n",
      "\u001b[1;31mTypeError\u001b[0m: 'list' object cannot be interpreted as an integer"
     ]
    }
   ],
   "source": [
    "for i in range(l):\n",
    "    print(i)"
   ]
  },
  {
   "cell_type": "code",
   "execution_count": 4,
   "metadata": {},
   "outputs": [
    {
     "name": "stdout",
     "output_type": "stream",
     "text": [
      "60\n"
     ]
    }
   ],
   "source": [
    "b=[10,20,30]\n",
    "sum=b[0]+b[1]+b[2]\n",
    "print(sum)"
   ]
  },
  {
   "cell_type": "code",
   "execution_count": 7,
   "metadata": {},
   "outputs": [
    {
     "name": "stdout",
     "output_type": "stream",
     "text": [
      "total=10\n",
      "total=30\n",
      "total=60\n"
     ]
    }
   ],
   "source": [
    "sum=0\n",
    "for j in b:\n",
    "    sum=sum+j\n",
    "    print(\"total={0}\".format(sum))"
   ]
  },
  {
   "cell_type": "code",
   "execution_count": 11,
   "metadata": {},
   "outputs": [
    {
     "name": "stdout",
     "output_type": "stream",
     "text": [
      "s[0]=h\n",
      "s[1]=e\n",
      "s[2]=l\n",
      "s[3]=l\n",
      "s[4]=o\n"
     ]
    }
   ],
   "source": [
    "s=\"hello\"\n",
    "for f in range(len(s)):\n",
    "    print(\"s[{0}]={1}\".format(f,s[f]),\n",
    "         )\n",
    "    "
   ]
  },
  {
   "cell_type": "code",
   "execution_count": 6,
   "metadata": {},
   "outputs": [
    {
     "name": "stdout",
     "output_type": "stream",
     "text": [
      "1\n",
      "1\n",
      "1\n",
      "12\n",
      "12\n",
      "12\n",
      "123\n",
      "123\n",
      "123\n",
      "1234\n",
      "1234\n"
     ]
    }
   ],
   "source": [
    "j=\"10,20@30@40\"\n",
    "y=''\n",
    "for i in j:\n",
    "    if i in '123456789':\n",
    "        y=y+i\n",
    "    print(int(y))"
   ]
  },
  {
   "cell_type": "code",
   "execution_count": 7,
   "metadata": {},
   "outputs": [
    {
     "name": "stdout",
     "output_type": "stream",
     "text": [
      "1234\n"
     ]
    }
   ],
   "source": [
    "j=\"10,20@30@40\"\n",
    "y=''\n",
    "for i in j:\n",
    "    if i in '123456789':\n",
    "        y=y+i\n",
    "print(int(y))"
   ]
  },
  {
   "cell_type": "code",
   "execution_count": 7,
   "metadata": {},
   "outputs": [
    {
     "name": "stdout",
     "output_type": "stream",
     "text": [
      "1\n",
      "10\n",
      "102\n",
      "1020\n",
      "10203\n",
      "102030\n",
      "1020304\n",
      "10203040\n"
     ]
    }
   ],
   "source": [
    "j=\"10,20@30@40\"\n",
    "y=''\n",
    "for i in j:\n",
    "    if i in '0123456789':\n",
    "        y=y+i\n",
    "        print(int(y))"
   ]
  },
  {
   "cell_type": "code",
   "execution_count": 8,
   "metadata": {},
   "outputs": [
    {
     "name": "stdout",
     "output_type": "stream",
     "text": [
      "1\n",
      "12\n",
      "123\n",
      "1234\n"
     ]
    }
   ],
   "source": [
    "j=\"10,20@30@40\"\n",
    "y=''\n",
    "for i in j:\n",
    "    if i in '123456789':\n",
    "        y=y+i\n",
    "        print(int(y))"
   ]
  },
  {
   "cell_type": "code",
   "execution_count": 2,
   "metadata": {},
   "outputs": [
    {
     "name": "stdout",
     "output_type": "stream",
     "text": [
      "gsdf\n",
      "23\n",
      "34.5\n",
      "45\n"
     ]
    }
   ],
   "source": [
    "j=[\"gsdf\",23,34.5,45]\n",
    "for s in j:\n",
    "    print(s)"
   ]
  },
  {
   "cell_type": "code",
   "execution_count": 12,
   "metadata": {},
   "outputs": [
    {
     "name": "stdout",
     "output_type": "stream",
     "text": [
      "number=Ritika\n",
      "R\n",
      "i\n",
      "t\n",
      "i\n",
      "k\n",
      "a\n"
     ]
    }
   ],
   "source": [
    "i=str(input(\"number=\"))\n",
    "for c in i:\n",
    "    print(c)"
   ]
  },
  {
   "cell_type": "markdown",
   "metadata": {},
   "source": []
  },
  {
   "cell_type": "code",
   "execution_count": 13,
   "metadata": {},
   "outputs": [
    {
     "name": "stdout",
     "output_type": "stream",
     "text": [
      "1\n",
      "14\n",
      "145\n",
      "1453\n",
      "14534\n",
      "145345\n",
      "1453454\n",
      "14534545\n"
     ]
    }
   ],
   "source": [
    "s=\"10#45&345.45%@df\"\n",
    "t=''\n",
    "for u in s:\n",
    "    if u in '123456789':\n",
    "        t=t+u\n",
    "        print(t)"
   ]
  },
  {
   "cell_type": "code",
   "execution_count": null,
   "metadata": {},
   "outputs": [],
   "source": [
    "for "
   ]
  }
 ],
 "metadata": {
  "kernelspec": {
   "display_name": "Python 3",
   "language": "python",
   "name": "python3"
  },
  "language_info": {
   "codemirror_mode": {
    "name": "ipython",
    "version": 3
   },
   "file_extension": ".py",
   "mimetype": "text/x-python",
   "name": "python",
   "nbconvert_exporter": "python",
   "pygments_lexer": "ipython3",
   "version": "3.7.4"
  }
 },
 "nbformat": 4,
 "nbformat_minor": 2
}
