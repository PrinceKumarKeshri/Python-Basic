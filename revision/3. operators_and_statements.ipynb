{
  "metadata": {
    "language_info": {
      "codemirror_mode": {
        "name": "python",
        "version": 3
      },
      "file_extension": ".py",
      "mimetype": "text/x-python",
      "name": "python",
      "nbconvert_exporter": "python",
      "pygments_lexer": "ipython3",
      "version": "3.8"
    },
    "kernelspec": {
      "name": "python",
      "display_name": "Python (Pyodide)",
      "language": "python"
    }
  },
  "nbformat_minor": 4,
  "nbformat": 4,
  "cells": [
    {
      "cell_type": "code",
      "source": "l = [(1, 2), (3, 4), (5, 6), (7, 8), (9, 10)]\nfor item in l:\n    print(item)",
      "metadata": {
        "trusted": true
      },
      "execution_count": 16,
      "outputs": [
        {
          "name": "stdout",
          "text": "(1, 2)\n(3, 4)\n(5, 6)\n(7, 8)\n(9, 10)\n",
          "output_type": "stream"
        }
      ]
    },
    {
      "cell_type": "code",
      "source": "l = [(1, 2), (3, 4), (5, 6), (7, 8), (9, 10)]\nfor a, b in l:\n    print(a, b)",
      "metadata": {
        "trusted": true
      },
      "execution_count": 17,
      "outputs": [
        {
          "name": "stdout",
          "text": "1 2\n3 4\n5 6\n7 8\n9 10\n",
          "output_type": "stream"
        }
      ]
    },
    {
      "cell_type": "code",
      "source": "d = {'k1': 1, 'k2': 2, 'k3': 3, 'k4': 4, 'k5': 5}\nfor items in d:\n    print(items)",
      "metadata": {
        "trusted": true
      },
      "execution_count": 22,
      "outputs": [
        {
          "name": "stdout",
          "text": "k1\nk2\nk3\nk4\nk5\n",
          "output_type": "stream"
        }
      ]
    },
    {
      "cell_type": "code",
      "source": "d = {'k1': 1, 'k2': 2, 'k3': 3, 'k4': 4, 'k5': 5}\nfor items in d.items():\n    print(items)",
      "metadata": {
        "trusted": true
      },
      "execution_count": 24,
      "outputs": [
        {
          "name": "stdout",
          "text": "('k1', 1)\n('k2', 2)\n('k3', 3)\n('k4', 4)\n('k5', 5)\n",
          "output_type": "stream"
        }
      ]
    },
    {
      "cell_type": "code",
      "source": "d = {'k1': 1, 'k2': 2, 'k3': 3, 'k4': 4, 'k5': 5}\nfor keys, values in d.items():\n    print(keys, values)",
      "metadata": {
        "trusted": true
      },
      "execution_count": 25,
      "outputs": [
        {
          "name": "stdout",
          "text": "k1 1\nk2 2\nk3 3\nk4 4\nk5 5\n",
          "output_type": "stream"
        }
      ]
    },
    {
      "cell_type": "code",
      "source": "d = {'k1': 1, 'k2': 2, 'k3': 3, 'k4': 4, 'k5': 5}\nfor key in d.keys():\n    print(key)",
      "metadata": {
        "trusted": true
      },
      "execution_count": 27,
      "outputs": [
        {
          "name": "stdout",
          "text": "k1\nk2\nk3\nk4\nk5\n",
          "output_type": "stream"
        }
      ]
    },
    {
      "cell_type": "code",
      "source": "d = {'k1': 1, 'k2': 2, 'k3': 3, 'k4': 4, 'k5': 5}\nfor value in d.values():\n    print(value)",
      "metadata": {
        "trusted": true
      },
      "execution_count": 28,
      "outputs": [
        {
          "name": "stdout",
          "text": "1\n2\n3\n4\n5\n",
          "output_type": "stream"
        }
      ]
    },
    {
      "cell_type": "code",
      "source": "i = 0\nwhile i<5:\n    print(i)\n    i = i+1",
      "metadata": {
        "trusted": true
      },
      "execution_count": 29,
      "outputs": [
        {
          "name": "stdout",
          "text": "0\n1\n2\n3\n4\n",
          "output_type": "stream"
        }
      ]
    },
    {
      "cell_type": "code",
      "source": "i = 0\nwhile i<5:\n    print(i)\n    i = i+1\nelse:\n    print(f'i is more than {i}')",
      "metadata": {
        "trusted": true
      },
      "execution_count": 30,
      "outputs": [
        {
          "name": "stdout",
          "text": "0\n1\n2\n3\n4\ni is more than 5\n",
          "output_type": "stream"
        }
      ]
    },
    {
      "cell_type": "code",
      "source": "for i in range(0, 10):\n    if i %2 != 0:\n        continue\n    print(i)",
      "metadata": {
        "trusted": true
      },
      "execution_count": 36,
      "outputs": [
        {
          "name": "stdout",
          "text": "0\n2\n4\n6\n8\n",
          "output_type": "stream"
        }
      ]
    },
    {
      "cell_type": "code",
      "source": "for i in range(0, 5):\n    if i ==3 :\n        break\n    print(i)",
      "metadata": {
        "trusted": true
      },
      "execution_count": 37,
      "outputs": [
        {
          "name": "stdout",
          "text": "0\n1\n2\n",
          "output_type": "stream"
        }
      ]
    },
    {
      "cell_type": "code",
      "source": "for i in range(0, 5):\n    pass",
      "metadata": {
        "trusted": true
      },
      "execution_count": 39,
      "outputs": []
    },
    {
      "cell_type": "code",
      "source": "list(range(0, 10, 2))",
      "metadata": {
        "trusted": true
      },
      "execution_count": 9,
      "outputs": [
        {
          "execution_count": 9,
          "output_type": "execute_result",
          "data": {
            "text/plain": "[0, 2, 4, 6, 8]"
          },
          "metadata": {}
        }
      ]
    },
    {
      "cell_type": "code",
      "source": "name = 'Prince'\n\nfor item in enumerate(name):\n    print(item)",
      "metadata": {
        "trusted": true
      },
      "execution_count": 10,
      "outputs": [
        {
          "name": "stdout",
          "text": "(0, 'P')\n(1, 'r')\n(2, 'i')\n(3, 'n')\n(4, 'c')\n(5, 'e')\n",
          "output_type": "stream"
        }
      ]
    },
    {
      "cell_type": "code",
      "source": "name = 'Prince'\n\nfor index, value in enumerate(name):\n    print(index, value)",
      "metadata": {
        "trusted": true
      },
      "execution_count": 11,
      "outputs": [
        {
          "name": "stdout",
          "text": "0 P\n1 r\n2 i\n3 n\n4 c\n5 e\n",
          "output_type": "stream"
        }
      ]
    },
    {
      "cell_type": "code",
      "source": "l_1 = [1, 2, 3, 4, 5]\nl_2 = ['a', 'b', 'c', 'd', 'e']\n\nfor items in zip(l_1, l_2):\n    print(items)",
      "metadata": {
        "trusted": true
      },
      "execution_count": 13,
      "outputs": [
        {
          "name": "stdout",
          "text": "(1, 'a')\n(2, 'b')\n(3, 'c')\n(4, 'd')\n(5, 'e')\n",
          "output_type": "stream"
        }
      ]
    },
    {
      "cell_type": "code",
      "source": "l_1 = [1, 2, 3, 4, 5]\nl_2 = ['a', 'b', 'c', 'd', 'e']\n\nlist(zip(l_1, l_2))",
      "metadata": {
        "trusted": true
      },
      "execution_count": 26,
      "outputs": [
        {
          "execution_count": 26,
          "output_type": "execute_result",
          "data": {
            "text/plain": "[(1, 'a'), (2, 'b'), (3, 'c'), (4, 'd'), (5, 'e')]"
          },
          "metadata": {}
        }
      ]
    },
    {
      "cell_type": "code",
      "source": "from random import shuffle",
      "metadata": {
        "trusted": true
      },
      "execution_count": 27,
      "outputs": []
    },
    {
      "cell_type": "code",
      "source": "l = [1, 2, 3, 4, 5, 6, 7, 8, 9, 10]",
      "metadata": {
        "trusted": true
      },
      "execution_count": 28,
      "outputs": []
    },
    {
      "cell_type": "code",
      "source": "shuffle(l)",
      "metadata": {
        "trusted": true
      },
      "execution_count": 45,
      "outputs": []
    },
    {
      "cell_type": "code",
      "source": "l",
      "metadata": {
        "trusted": true
      },
      "execution_count": 46,
      "outputs": [
        {
          "execution_count": 46,
          "output_type": "execute_result",
          "data": {
            "text/plain": "[9, 5, 3, 7, 4, 2, 8, 6, 1, 10]"
          },
          "metadata": {}
        }
      ]
    },
    {
      "cell_type": "code",
      "source": "print(shuffle(l))",
      "metadata": {
        "trusted": true
      },
      "execution_count": 47,
      "outputs": [
        {
          "name": "stdout",
          "text": "None\n",
          "output_type": "stream"
        }
      ]
    },
    {
      "cell_type": "code",
      "source": "type(shuffle(l))",
      "metadata": {
        "trusted": true
      },
      "execution_count": 48,
      "outputs": [
        {
          "execution_count": 48,
          "output_type": "execute_result",
          "data": {
            "text/plain": "NoneType"
          },
          "metadata": {}
        }
      ]
    },
    {
      "cell_type": "code",
      "source": "from random import randint",
      "metadata": {
        "trusted": true
      },
      "execution_count": 49,
      "outputs": []
    },
    {
      "cell_type": "code",
      "source": "randint(0, 100)",
      "metadata": {
        "trusted": true
      },
      "execution_count": 53,
      "outputs": [
        {
          "execution_count": 53,
          "output_type": "execute_result",
          "data": {
            "text/plain": "82"
          },
          "metadata": {}
        }
      ]
    },
    {
      "cell_type": "code",
      "source": "print(randint(0, 100))",
      "metadata": {},
      "execution_count": null,
      "outputs": [
        {
          "name": "stdout",
          "text": "56\n",
          "output_type": "stream"
        }
      ]
    },
    {
      "cell_type": "code",
      "source": "i = input('Enter: ')",
      "metadata": {
        "trusted": true
      },
      "execution_count": 66,
      "outputs": [
        {
          "output_type": "stream",
          "name": "stdin",
          "text": "Enter:  prince\n"
        }
      ]
    },
    {
      "cell_type": "code",
      "source": "print(type(i))",
      "metadata": {
        "trusted": true
      },
      "execution_count": 67,
      "outputs": [
        {
          "name": "stdout",
          "text": "<class 'asyncio.futures.Future'>\n",
          "output_type": "stream"
        }
      ]
    },
    {
      "cell_type": "code",
      "source": "inp = input('Enter: ')",
      "metadata": {
        "trusted": true
      },
      "execution_count": 60,
      "outputs": [
        {
          "output_type": "stream",
          "name": "stdin",
          "text": "Enter:  20\n"
        }
      ]
    },
    {
      "cell_type": "code",
      "source": "type(inp)",
      "metadata": {
        "trusted": true
      },
      "execution_count": 64,
      "outputs": [
        {
          "execution_count": 64,
          "output_type": "execute_result",
          "data": {
            "text/plain": "asyncio.futures.Future"
          },
          "metadata": {}
        }
      ]
    },
    {
      "cell_type": "code",
      "source": "str(inp)",
      "metadata": {
        "trusted": true
      },
      "execution_count": 74,
      "outputs": [
        {
          "execution_count": 74,
          "output_type": "execute_result",
          "data": {
            "text/plain": "\"<Future finished result='20'>\""
          },
          "metadata": {}
        }
      ]
    },
    {
      "cell_type": "code",
      "source": "l = [item for item in range(1, 10)]\nl",
      "metadata": {
        "trusted": true
      },
      "execution_count": 79,
      "outputs": [
        {
          "execution_count": 79,
          "output_type": "execute_result",
          "data": {
            "text/plain": "[1, 2, 3, 4, 5, 6, 7, 8, 9]"
          },
          "metadata": {}
        }
      ]
    },
    {
      "cell_type": "code",
      "source": "l = [item for item in range(1, 10) if item%2 == 0]\nl",
      "metadata": {
        "trusted": true
      },
      "execution_count": 81,
      "outputs": [
        {
          "execution_count": 81,
          "output_type": "execute_result",
          "data": {
            "text/plain": "[2, 4, 6, 8]"
          },
          "metadata": {}
        }
      ]
    },
    {
      "cell_type": "code",
      "source": "l = [item if item %2 == 0 else 'odd' for item in range(0, 10)]\nl",
      "metadata": {
        "trusted": true
      },
      "execution_count": 83,
      "outputs": [
        {
          "execution_count": 83,
          "output_type": "execute_result",
          "data": {
            "text/plain": "[0, 'odd', 2, 'odd', 4, 'odd', 6, 'odd', 8, 'odd']"
          },
          "metadata": {}
        }
      ]
    },
    {
      "cell_type": "code",
      "source": "li = []\nfor i in [2, 4, 6]:\n    for j in [1, 100, 1000]:\n        li.append(i*j)\n\nl = [i*j for i in [2, 4, 6] for j in [1, 100, 1000]]\nprint(l)\nprint(li)",
      "metadata": {
        "trusted": true
      },
      "execution_count": 92,
      "outputs": [
        {
          "name": "stdout",
          "text": "[2, 200, 2000, 4, 400, 4000, 6, 600, 6000]\n[2, 200, 2000, 4, 400, 4000, 6, 600, 6000]\n",
          "output_type": "stream"
        }
      ]
    },
    {
      "cell_type": "code",
      "source": "",
      "metadata": {},
      "execution_count": null,
      "outputs": []
    }
  ]
}