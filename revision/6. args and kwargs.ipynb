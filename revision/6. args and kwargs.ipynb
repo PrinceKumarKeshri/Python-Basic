{
  "metadata": {
    "language_info": {
      "codemirror_mode": {
        "name": "python",
        "version": 3
      },
      "file_extension": ".py",
      "mimetype": "text/x-python",
      "name": "python",
      "nbconvert_exporter": "python",
      "pygments_lexer": "ipython3",
      "version": "3.8"
    },
    "kernelspec": {
      "name": "python",
      "display_name": "Python (Pyodide)",
      "language": "python"
    }
  },
  "nbformat_minor": 4,
  "nbformat": 4,
  "cells": [
    {
      "cell_type": "code",
      "source": "print('I Love Coding')",
      "metadata": {
        "trusted": true
      },
      "execution_count": 1,
      "outputs": [
        {
          "name": "stdout",
          "text": "I Love Coding\n",
          "output_type": "stream"
        }
      ]
    },
    {
      "cell_type": "code",
      "source": "def even(*args):\n    if sum(args)%2==0:\n        return 'even sum'\n    else:\n        return 'odd summ'",
      "metadata": {
        "trusted": true
      },
      "execution_count": 21,
      "outputs": []
    },
    {
      "cell_type": "code",
      "source": "even(1, 2, 3, 4)\n",
      "metadata": {
        "trusted": true
      },
      "execution_count": 22,
      "outputs": [
        {
          "execution_count": 22,
          "output_type": "execute_result",
          "data": {
            "text/plain": "'even sum'"
          },
          "metadata": {}
        }
      ]
    },
    {
      "cell_type": "code",
      "source": "def numbers(*args):\n    return args\n\nnumbers(1, 2, 3, 4, 5)",
      "metadata": {
        "trusted": true
      },
      "execution_count": 24,
      "outputs": [
        {
          "execution_count": 24,
          "output_type": "execute_result",
          "data": {
            "text/plain": "(1, 2, 3, 4, 5)"
          },
          "metadata": {}
        }
      ]
    },
    {
      "cell_type": "code",
      "source": "def numbers(*args):\n    for item in args:\n        print(item)\nnumbers(1, 2, 3, 4, 5)",
      "metadata": {
        "trusted": true
      },
      "execution_count": 25,
      "outputs": [
        {
          "name": "stdout",
          "text": "1\n2\n3\n4\n5\n",
          "output_type": "stream"
        }
      ]
    },
    {
      "cell_type": "code",
      "source": "def dictonary(**kwargs):\n    return kwargs\n\ndictonary(fruit= 'apple', chocolate= 'kitkat')",
      "metadata": {
        "trusted": true
      },
      "execution_count": 27,
      "outputs": [
        {
          "execution_count": 27,
          "output_type": "execute_result",
          "data": {
            "text/plain": "{'fruit': 'apple', 'chocolate': 'kitkat'}"
          },
          "metadata": {}
        }
      ]
    },
    {
      "cell_type": "code",
      "source": "def dictonary(**kwargs):\n    print(kwargs)\n    if 'vegetables' in kwargs:\n        return 'My favourite fruit is {}'.format(kwargs['fruit'])\n    else:\n        return 'I love {} chocolates'.format(kwargs['chocolate'])\n                                                \n        \n\ndictonary(fruit= 'pineapple', chocolate= 'kitkat')",
      "metadata": {
        "trusted": true
      },
      "execution_count": 42,
      "outputs": [
        {
          "name": "stdout",
          "text": "{'fruit': 'pineapple', 'chocolate': 'kitkat'}\n",
          "output_type": "stream"
        },
        {
          "execution_count": 42,
          "output_type": "execute_result",
          "data": {
            "text/plain": "'I love kitkat chocolates'"
          },
          "metadata": {}
        }
      ]
    },
    {
      "cell_type": "code",
      "source": "def project(*args, **kwargs):\n    print('tuples args = ', args)\n    print('dictionary args = ', kwargs)\n    return 'I have done %s project in %s. I have done %s in %s'%(args[1], kwargs['language'], kwargs['activity'], kwargs['specilisation'])\n\nproject(5, 3, language='python', activity='trainings', specilisation='AIML') ",
      "metadata": {
        "trusted": true
      },
      "execution_count": 50,
      "outputs": [
        {
          "name": "stdout",
          "text": "tuples args =  (5, 3)\ndictionary args =  {'language': 'python', 'activity': 'trainings', 'specilisation': 'AIML'}\n",
          "output_type": "stream"
        },
        {
          "execution_count": 50,
          "output_type": "execute_result",
          "data": {
            "text/plain": "'I have done 3 project in python. I have done trainings in AIML'"
          },
          "metadata": {}
        }
      ]
    },
    {
      "cell_type": "code",
      "source": "f'I %s coding. I love %r'%('love', 'python')",
      "metadata": {
        "trusted": true
      },
      "execution_count": 51,
      "outputs": [
        {
          "execution_count": 51,
          "output_type": "execute_result",
          "data": {
            "text/plain": "\"I love coding. I love 'python'\""
          },
          "metadata": {}
        }
      ]
    },
    {
      "cell_type": "code",
      "source": "",
      "metadata": {},
      "execution_count": null,
      "outputs": []
    }
  ]
}