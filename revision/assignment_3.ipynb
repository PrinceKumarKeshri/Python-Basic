{
  "metadata": {
    "language_info": {
      "codemirror_mode": {
        "name": "python",
        "version": 3
      },
      "file_extension": ".py",
      "mimetype": "text/x-python",
      "name": "python",
      "nbconvert_exporter": "python",
      "pygments_lexer": "ipython3",
      "version": "3.8"
    },
    "kernelspec": {
      "name": "python",
      "display_name": "Python (Pyodide)",
      "language": "python"
    }
  },
  "nbformat_minor": 4,
  "nbformat": 4,
  "cells": [
    {
      "cell_type": "code",
      "source": "print('prince')",
      "metadata": {
        "trusted": true
      },
      "execution_count": 1,
      "outputs": [
        {
          "name": "stdout",
          "text": "prince\n",
          "output_type": "stream"
        }
      ]
    },
    {
      "cell_type": "markdown",
      "source": "### Warm Up Section",
      "metadata": {}
    },
    {
      "cell_type": "code",
      "source": "def lesser_of_two_evens(num_1, num_2):\n    if num_1%2==0 and num_2%2==0:\n        return min(num_1, num_2)\n    elif num_1%2!=0 or num_2%2!=0:\n        return max(num_1, num_2)",
      "metadata": {
        "trusted": true
      },
      "execution_count": 7,
      "outputs": []
    },
    {
      "cell_type": "code",
      "source": "lesser_of_two_evens(2, 4)",
      "metadata": {
        "trusted": true
      },
      "execution_count": 8,
      "outputs": [
        {
          "execution_count": 8,
          "output_type": "execute_result",
          "data": {
            "text/plain": "2"
          },
          "metadata": {}
        }
      ]
    },
    {
      "cell_type": "code",
      "source": "lesser_of_two_evens(2, 5)",
      "metadata": {
        "trusted": true
      },
      "execution_count": 9,
      "outputs": [
        {
          "execution_count": 9,
          "output_type": "execute_result",
          "data": {
            "text/plain": "5"
          },
          "metadata": {}
        }
      ]
    },
    {
      "cell_type": "code",
      "source": "def animal_crackers(text):\n    split_text = text.split(' ')\n    if split_text[0][0] == split_text[1][0]:\n        return True\n    else:\n        return False",
      "metadata": {
        "trusted": true
      },
      "execution_count": 10,
      "outputs": []
    },
    {
      "cell_type": "code",
      "source": "animal_crackers('Levelheaded Llama')",
      "metadata": {
        "trusted": true
      },
      "execution_count": 11,
      "outputs": [
        {
          "execution_count": 11,
          "output_type": "execute_result",
          "data": {
            "text/plain": "True"
          },
          "metadata": {}
        }
      ]
    },
    {
      "cell_type": "code",
      "source": "animal_crackers('Crazy Kangaroo')",
      "metadata": {
        "trusted": true
      },
      "execution_count": 12,
      "outputs": [
        {
          "execution_count": 12,
          "output_type": "execute_result",
          "data": {
            "text/plain": "False"
          },
          "metadata": {}
        }
      ]
    },
    {
      "cell_type": "code",
      "source": "def makes_twenty(num_1, num_2):\n    if num_1+num_2 == 20:\n        print(True)\n    elif num_1 == 20 or num_2 == 20:\n        print(True)\n    else:\n        print(False)",
      "metadata": {
        "trusted": true
      },
      "execution_count": 13,
      "outputs": []
    },
    {
      "cell_type": "code",
      "source": "print(makes_twenty(20, 10))\nprint(makes_twenty(12, 8))\nprint(makes_twenty(2, 3))",
      "metadata": {
        "trusted": true
      },
      "execution_count": 20,
      "outputs": [
        {
          "name": "stdout",
          "text": "True\nNone\nTrue\nNone\nFalse\nNone\n",
          "output_type": "stream"
        }
      ]
    },
    {
      "cell_type": "markdown",
      "source": "### Level 1",
      "metadata": {}
    },
    {
      "cell_type": "code",
      "source": "def old_macdonald(text):\n    split_text = []\n    for i in text:\n        split_text.append(i)\n    split_text.insert(0, split_text[0].upper())\n    split_text.remove(split_text[1])\n    split_text.insert(3, split_text[3].upper())\n    split_text.remove(split_text[4])\n    new_text = ''.join(split_text)\n    \n    return new_text",
      "metadata": {
        "trusted": true
      },
      "execution_count": 54,
      "outputs": []
    },
    {
      "cell_type": "code",
      "source": "old_macdonald('macdonald')",
      "metadata": {
        "trusted": true
      },
      "execution_count": 55,
      "outputs": [
        {
          "execution_count": 55,
          "output_type": "execute_result",
          "data": {
            "text/plain": "'MacDonald'"
          },
          "metadata": {}
        }
      ]
    },
    {
      "cell_type": "code",
      "source": "def master_yoda(text):\n    split_text = text.split()\n    new_list = split_text[::-1]\n    new_text = ' '.join(new_list)\n    \n    return new_text",
      "metadata": {
        "trusted": true
      },
      "execution_count": 56,
      "outputs": []
    },
    {
      "cell_type": "code",
      "source": "master_yoda('I am home')",
      "metadata": {
        "trusted": true
      },
      "execution_count": 57,
      "outputs": [
        {
          "execution_count": 57,
          "output_type": "execute_result",
          "data": {
            "text/plain": "'home am I'"
          },
          "metadata": {}
        }
      ]
    },
    {
      "cell_type": "code",
      "source": "master_yoda('we are ready')",
      "metadata": {
        "trusted": true
      },
      "execution_count": 58,
      "outputs": [
        {
          "execution_count": 58,
          "output_type": "execute_result",
          "data": {
            "text/plain": "'ready are we'"
          },
          "metadata": {}
        }
      ]
    },
    {
      "cell_type": "code",
      "source": "def almost_there(n):\n    if n in range(90, 101):\n        return True\n    elif n in range(100, 111):\n        return True\n    elif n in list(range(190, 201)):\n        return True\n    elif n in list(range(200, 211)):\n        return True\n    else:\n        return False",
      "metadata": {
        "trusted": true
      },
      "execution_count": 69,
      "outputs": []
    },
    {
      "cell_type": "code",
      "source": "almost_there(90)",
      "metadata": {
        "trusted": true
      },
      "execution_count": 70,
      "outputs": [
        {
          "execution_count": 70,
          "output_type": "execute_result",
          "data": {
            "text/plain": "True"
          },
          "metadata": {}
        }
      ]
    },
    {
      "cell_type": "code",
      "source": "almost_there(104)",
      "metadata": {
        "trusted": true
      },
      "execution_count": 71,
      "outputs": [
        {
          "execution_count": 71,
          "output_type": "execute_result",
          "data": {
            "text/plain": "True"
          },
          "metadata": {}
        }
      ]
    },
    {
      "cell_type": "code",
      "source": "almost_there(150)",
      "metadata": {
        "trusted": true
      },
      "execution_count": 73,
      "outputs": [
        {
          "execution_count": 73,
          "output_type": "execute_result",
          "data": {
            "text/plain": "False"
          },
          "metadata": {}
        }
      ]
    },
    {
      "cell_type": "code",
      "source": "almost_there(209)",
      "metadata": {
        "trusted": true
      },
      "execution_count": 74,
      "outputs": [
        {
          "execution_count": 74,
          "output_type": "execute_result",
          "data": {
            "text/plain": "True"
          },
          "metadata": {}
        }
      ]
    },
    {
      "cell_type": "markdown",
      "source": "### Level 2",
      "metadata": {}
    },
    {
      "cell_type": "code",
      "source": "def has_33(num_list):\n    for i in num_list:\n        if i == 3:\n            if num_list[num_list.index(3)+1] == 3:\n                return True\n            else:\n                return False\n        else:\n            pass",
      "metadata": {
        "trusted": true
      },
      "execution_count": 77,
      "outputs": []
    },
    {
      "cell_type": "code",
      "source": "has_33([1, 3, 3])",
      "metadata": {
        "trusted": true
      },
      "execution_count": 79,
      "outputs": [
        {
          "execution_count": 79,
          "output_type": "execute_result",
          "data": {
            "text/plain": "True"
          },
          "metadata": {}
        }
      ]
    },
    {
      "cell_type": "code",
      "source": "has_33([1, 3, 1, 3])",
      "metadata": {
        "trusted": true
      },
      "execution_count": 80,
      "outputs": [
        {
          "execution_count": 80,
          "output_type": "execute_result",
          "data": {
            "text/plain": "False"
          },
          "metadata": {}
        }
      ]
    },
    {
      "cell_type": "code",
      "source": "has_33([3, 1, 3])",
      "metadata": {
        "trusted": true
      },
      "execution_count": 81,
      "outputs": [
        {
          "execution_count": 81,
          "output_type": "execute_result",
          "data": {
            "text/plain": "False"
          },
          "metadata": {}
        }
      ]
    },
    {
      "cell_type": "code",
      "source": "def paper_doll(text):\n    new_list = []\n    for i in text:\n        for j in range(3):\n            new_list.append(i)\n    new_text = ''.join(new_list)\n    \n    return new_text",
      "metadata": {
        "trusted": true
      },
      "execution_count": 82,
      "outputs": []
    },
    {
      "cell_type": "code",
      "source": "paper_doll('Hello')",
      "metadata": {
        "trusted": true
      },
      "execution_count": 83,
      "outputs": [
        {
          "execution_count": 83,
          "output_type": "execute_result",
          "data": {
            "text/plain": "'HHHeeellllllooo'"
          },
          "metadata": {}
        }
      ]
    },
    {
      "cell_type": "code",
      "source": "paper_doll('Mississippi')",
      "metadata": {
        "trusted": true
      },
      "execution_count": 84,
      "outputs": [
        {
          "execution_count": 84,
          "output_type": "execute_result",
          "data": {
            "text/plain": "'MMMiiissssssiiissssssiiippppppiii'"
          },
          "metadata": {}
        }
      ]
    },
    {
      "cell_type": "code",
      "source": "def black_jack(a, b, c):\n    total = a+b+c\n    if total <= 21:\n        return total\n    elif total > 21 and 11 in [a, b, c]:\n        if total - 10 <= 21:\n            return total-10\n        elif total -10 > 21:\n            return 'BUST'\n    elif total > 21 and 11 not in [a, b, c]:\n        return 'BUST'\n    ",
      "metadata": {
        "trusted": true
      },
      "execution_count": 98,
      "outputs": []
    },
    {
      "cell_type": "code",
      "source": "black_jack(5, 6, 7)",
      "metadata": {
        "trusted": true
      },
      "execution_count": 99,
      "outputs": [
        {
          "execution_count": 99,
          "output_type": "execute_result",
          "data": {
            "text/plain": "18"
          },
          "metadata": {}
        }
      ]
    },
    {
      "cell_type": "code",
      "source": "black_jack(9 , 9, 9)",
      "metadata": {
        "trusted": true
      },
      "execution_count": 100,
      "outputs": [
        {
          "execution_count": 100,
          "output_type": "execute_result",
          "data": {
            "text/plain": "'BUST'"
          },
          "metadata": {}
        }
      ]
    },
    {
      "cell_type": "code",
      "source": "black_jack(9, 9, 11)",
      "metadata": {
        "trusted": true
      },
      "execution_count": 101,
      "outputs": [
        {
          "execution_count": 101,
          "output_type": "execute_result",
          "data": {
            "text/plain": "19"
          },
          "metadata": {}
        }
      ]
    },
    {
      "cell_type": "code",
      "source": "def summer_69(arr):\n    total = 0\n    \n    if 6 in arr:\n        if 9 in arr:\n            for i in arr:\n                if arr.index(i) < arr.index(6):\n                    total = total + i\n                elif i == 6:\n                    pass\n                elif arr.index(i)>arr.index(6) and arr.index(i)<arr.index(9):\n                    pass\n                elif arr.index(i)>arr.index(9):\n                    total = total + i\n            return total\n        elif 9 not in arr:\n            for i in arr:\n                if i == 6:\n                    return total\n                elif i != 6:\n                    total = total + i \n                \n    elif 6 not in arr:\n        for i in arr:\n            total = total + i\n        return total\n",
      "metadata": {
        "trusted": true
      },
      "execution_count": 119,
      "outputs": []
    },
    {
      "cell_type": "code",
      "source": "summer_69([1, 3, 5])",
      "metadata": {
        "trusted": true
      },
      "execution_count": 120,
      "outputs": [
        {
          "execution_count": 120,
          "output_type": "execute_result",
          "data": {
            "text/plain": "9"
          },
          "metadata": {}
        }
      ]
    },
    {
      "cell_type": "code",
      "source": "summer_69([4, 5, 6, 7, 8, 9])",
      "metadata": {
        "trusted": true
      },
      "execution_count": 121,
      "outputs": [
        {
          "execution_count": 121,
          "output_type": "execute_result",
          "data": {
            "text/plain": "9"
          },
          "metadata": {}
        }
      ]
    },
    {
      "cell_type": "code",
      "source": "summer_69([2, 1, 6, 9, 11])",
      "metadata": {
        "trusted": true
      },
      "execution_count": 122,
      "outputs": [
        {
          "execution_count": 122,
          "output_type": "execute_result",
          "data": {
            "text/plain": "14"
          },
          "metadata": {}
        }
      ]
    },
    {
      "cell_type": "markdown",
      "source": "### Challenging Problems",
      "metadata": {}
    },
    {
      "cell_type": "code",
      "source": "def spy_game(arr):\n    if arr.index(0) < arr.index(7):\n        arr.remove(0)\n        if arr.index(0)< arr.index(7):\n            return True\n        elif arr.index(0) > arr.index(7):\n            return False\n    elif arr.index(0)>arr.index(7):\n        return False\n        ",
      "metadata": {
        "trusted": true
      },
      "execution_count": 123,
      "outputs": []
    },
    {
      "cell_type": "code",
      "source": "spy_game([1,2,4,0,0,7,5])",
      "metadata": {
        "trusted": true
      },
      "execution_count": 124,
      "outputs": [
        {
          "execution_count": 124,
          "output_type": "execute_result",
          "data": {
            "text/plain": "True"
          },
          "metadata": {}
        }
      ]
    },
    {
      "cell_type": "code",
      "source": "spy_game([1,0,2,4,0,5,7])",
      "metadata": {
        "trusted": true
      },
      "execution_count": 125,
      "outputs": [
        {
          "execution_count": 125,
          "output_type": "execute_result",
          "data": {
            "text/plain": "True"
          },
          "metadata": {}
        }
      ]
    },
    {
      "cell_type": "code",
      "source": "spy_game([1,7,2,0,4,5,0])",
      "metadata": {
        "trusted": true
      },
      "execution_count": 126,
      "outputs": [
        {
          "execution_count": 126,
          "output_type": "execute_result",
          "data": {
            "text/plain": "False"
          },
          "metadata": {}
        }
      ]
    },
    {
      "cell_type": "code",
      "source": "spy_game([1,2,0,4,7,5,0])",
      "metadata": {
        "trusted": true
      },
      "execution_count": 128,
      "outputs": [
        {
          "execution_count": 128,
          "output_type": "execute_result",
          "data": {
            "text/plain": "False"
          },
          "metadata": {}
        }
      ]
    },
    {
      "cell_type": "code",
      "source": "def count_primes(nums):\n    prime_numbers = []\n    for i in range(2, nums+1):\n        new_list = []\n        for j in range(1, i+1):\n            if i%j== 0:\n                new_list.append(j)\n            else:\n                pass\n        if len(new_list) == 2:\n            prime_numbers.append(i)\n        else:\n            pass\n    return len(prime_numbers)",
      "metadata": {
        "trusted": true
      },
      "execution_count": 14,
      "outputs": []
    },
    {
      "cell_type": "code",
      "source": "count_primes(100)",
      "metadata": {
        "trusted": true
      },
      "execution_count": 15,
      "outputs": [
        {
          "execution_count": 15,
          "output_type": "execute_result",
          "data": {
            "text/plain": "25"
          },
          "metadata": {}
        }
      ]
    },
    {
      "cell_type": "code",
      "source": "",
      "metadata": {},
      "execution_count": null,
      "outputs": []
    }
  ]
}