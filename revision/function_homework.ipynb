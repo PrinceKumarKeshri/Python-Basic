{
  "metadata": {
    "language_info": {
      "codemirror_mode": {
        "name": "python",
        "version": 3
      },
      "file_extension": ".py",
      "mimetype": "text/x-python",
      "name": "python",
      "nbconvert_exporter": "python",
      "pygments_lexer": "ipython3",
      "version": "3.8"
    },
    "kernelspec": {
      "name": "python",
      "display_name": "Python (Pyodide)",
      "language": "python"
    }
  },
  "nbformat_minor": 4,
  "nbformat": 4,
  "cells": [
    {
      "cell_type": "code",
      "source": "'I Love Coding'",
      "metadata": {},
      "execution_count": null,
      "outputs": []
    },
    {
      "cell_type": "code",
      "source": "from IPython.display import clear_output\nimport random\n\ndef display_board(board):\n    \n    clear_output()\n    print('   |   |')\n    print(' ' + board[7] + ' | ' + board[8] + ' | ' + board[9])\n    print('   |   |')\n    print('-----------')\n    print('   |   |')\n    print(' ' + board[4] + ' | ' + board[5] + ' | ' + board[6])\n    print('   |   |')\n    print('-----------')\n    print('   |   |')\n    print(' ' + board[1] + ' | ' + board[2] + ' | ' + board[3])\n    print('   |   |')\n    \ndef player_input():\n    \n    marker=''\n    \n    while not(marker == 'X' or marker=='O'):\n        marker=input('Toss winner : \\n\\tDo you want to be X or O ?\\n\\t-------->>').upper()\n    \n    if marker =='X'and tosswinner==\"player_1\":\n        return ('X','O')\n    \n    elif marker =='O'and tosswinner==\"player_1\":\n        return ('O','X')\n    \n    elif marker =='X'and tosswinner==\"player_2\":\n        return ('O','X')\n    \n    elif marker =='O'and tosswinner==\"player_2\":\n        return ('X','O')\n    \ndef place_marker(board,marker,position):\n    board[position]=marker\n\n    \ndef player_name():\n    \n    global pler_1, pler_2\n    \n    pler_1=input(\"Enter 1st player name : \")\n    pler_2=input(\"Enter 2nd player name : \")\n    \ndef win_check(board,mark):\n    \n    return ((board[7] == board[8] == board[9] == mark) or\n    (board[4] == board[5] == board[6] == mark) or\n    (board[1] == board[2] == board[3] == mark) or \n    (board[7] == board[4] == board[1] == mark) or\n    (board[8] == board[5] == board[2] == mark) or \n    (board[9] == board[6] == board[3] == mark) or\n    (board[7] == board[5] == board[3] == mark) or\n    (board[9] == board[5] == board[1] == mark))\n\ndef choose_first():\n    \n    clear_output()\n    global tosswinner, player_2\n    \n    print(\"Toss: \\n\\tHead OR\\tTail\\n\")\n    player_1=input(f\"{pler_1} select = \")\n    \n    if player_1.capitalize()==\"Head\":\n        player_2='Tail'\n        print(f\"{pler_2} select = Tail\")\n    \n    elif player_1.capitalize()==\"Tail\":\n        player_2=\"Head\"\n        print(f\"{pler_2} select = Head\")\n        \n    \n    input('press enter for continue : ')\n    clear_output()\n    \n    h=0\n    t=1\n    ran=random.randint(0,1)\n    \n    if h == ran:\n        \n        print(\"\\nToss Result : Head\\n\")\n        \n        if player_1.capitalize()==\"Head\":\n            tosswinner='player_1'\n            print(f\"{pler_1} won the toss\\n\")\n            \n        elif player_2==\"Head\":\n            tosswinner='player_2'\n            print(f\"{pler_2} won the toss\\n\")\n        return \"Head\"\n    \n    elif t == ran:\n        \n        print(\"\\nToss Result : Tail\\n\")\n        \n        if player_1.capitalize()==\"Tail\":\n            tosswinner='player_1'\n            print(f\"{pler_1} won the toss\\n\")\n            \n        elif player_2==\"Tail\":\n            tosswinner='player_2'\n            print(f\"{pler_2} won the toss\\n\")\n        return 'Tail'\ndef space_check(board, position):\n    \n    return board[position] == ' '\n\ndef full_board_check(board):\n    for i in range(1,10):\n        if space_check(board, i):\n            return False\n    return True\n\ndef player1_choice(board):\n    position = 0\n    \n    while position not in [1,2,3,4,5,6,7,8,9] or not space_check(board, position):\n        position = int(input(f'{pler_1} choose your position between 1 to 9 = '))\n    return position\n\ndef player2_choice(board):\n    position = 0\n    \n    while position not in [1,2,3,4,5,6,7,8,9] or not space_check(board, position):\n        position = int(input(f'{pler_2} choose your position between 1 to 9 = '))        \n    return position\n\ndef replay():\n    \n    clear_output()\n    return input('Do you want to play again? \\n\\tYes \\n\\tNo \\n').lower().startswith('y')\n\nprint('Welcome to Tic Tac Toe!\\n\\n')\n\nwhile True:\n\n    theBoard = [' '] * 10\n    name_of_players=player_name()\n    toss_result = choose_first()\n    turn = toss_result\n    player1_marker, player2_marker = player_input()\n    \n    clear_output()\n    \n    print('\\nDo you want to start the game ? \\n\\tYes \\n\\tNo\\n')\n    play_game = input(\"Enter your choice : \")\n    if play_game.lower() == 'yes':\n        game_on = True\n    else:\n        game_on = False\n\n    while game_on:\n         \n        if tosswinner=='player_1' and toss_result =='Head':\n            \n            if turn == \"Head\":\n\n                display_board(theBoard)\n                position = player1_choice(theBoard)\n                place_marker(theBoard, player1_marker, position)\n\n                if win_check(theBoard, player1_marker):\n                    display_board(theBoard)\n                    print(f'\\n\\n{pler_1} have won the game!\\n')\n                    game_on = False\n                else:\n                    if full_board_check(theBoard):\n                        display_board(theBoard)\n                        print('The game is a draw!')\n                        break\n                    else:\n                        turn = 'Tail'\n\n            else:\n\n\n                display_board(theBoard)\n                position = player2_choice(theBoard)\n                place_marker(theBoard, player2_marker, position)\n\n                if win_check(theBoard, player2_marker):\n                    display_board(theBoard)\n                    print(f'\\n\\n{pler_2} has won!\\n')\n                    game_on = False\n                else:\n                    if full_board_check(theBoard):\n                        display_board(theBoard)\n                        print('The game is a draw!')\n                        break\n                    else:\n                        turn = 'Head'\n                        \n                        \n        \n        elif tosswinner=='player_1' and toss_result =='Tail':\n            \n            if turn == \"Tail\":\n\n                display_board(theBoard)\n                position = player1_choice(theBoard)\n                place_marker(theBoard, player1_marker, position)\n\n                if win_check(theBoard, player1_marker):\n                    display_board(theBoard)\n                    print(f'\\n\\n{pler_1} have won the game!\\n')\n                    game_on = False\n                else:\n                    if full_board_check(theBoard):\n                        display_board(theBoard)\n                        print('The game is a draw!')\n                        break\n                    else:\n                        turn = 'Head'\n\n            else:\n\n\n                display_board(theBoard)\n                position = player2_choice(theBoard)\n                place_marker(theBoard, player2_marker, position)\n\n                if win_check(theBoard, player2_marker):\n                    display_board(theBoard)\n                    print(f'\\n\\n{pler_2} has won!\\n')\n                    game_on = False\n                else:\n                    if full_board_check(theBoard):\n                        display_board(theBoard)\n                        print('The game is a draw!')\n                        break\n                    else:\n                        turn = 'Tail'\n                    \n                    \n                    \n        elif tosswinner=='player_2' and toss_result=='Head':\n            \n            if turn == \"Head\":\n\n                display_board(theBoard)\n                position = player2_choice(theBoard)\n                place_marker(theBoard, player2_marker, position)\n\n                if win_check(theBoard, player2_marker):\n                    display_board(theBoard)\n                    print(f'\\n\\n{pler_2} have won the game!\\n')\n                    game_on = False\n                else:\n                    if full_board_check(theBoard):\n                        display_board(theBoard)\n                        print('The game is a draw!')\n                        break\n                    else:\n                        turn = 'Tail'\n\n            else:\n\n\n                display_board(theBoard)\n                position = player1_choice(theBoard)\n                place_marker(theBoard, player1_marker, position)\n\n                if win_check(theBoard, player1_marker):\n                    display_board(theBoard)\n                    print(f'\\n\\n{pler_1} has won!\\n')\n                    game_on = False\n                else:\n                    if full_board_check(theBoard):\n                        display_board(theBoard)\n                        print('The game is a draw!')\n                        break\n                    else:\n                        turn = 'Head'\n            \n            \n            \n        elif tosswinner=='player_2' and toss_result=='Tail':\n            \n            if turn == \"Tail\":\n\n                display_board(theBoard)\n                position = player2_choice(theBoard)\n                place_marker(theBoard, player2_marker, position)\n\n                if win_check(theBoard, player2_marker):\n                    display_board(theBoard)\n                    print(f'\\n\\n{pler_2} have won the game!\\n')\n                    game_on = False\n                else:\n                    if full_board_check(theBoard):\n                        display_board(theBoard)\n                        print('The game is a draw!')\n                        break\n                    else:\n                        turn = 'Head'\n\n            else:\n\n\n                display_board(theBoard)\n                position = player1_choice(theBoard)\n                place_marker(theBoard, player1_marker, position)\n\n                if win_check(theBoard, player1_marker):\n                    display_board(theBoard)\n                    print(f'\\n\\n{pler_1} has won!\\n')\n                    game_on = False\n                else:\n                    if full_board_check(theBoard):\n                        display_board(theBoard)\n                        print('The game is a draw!')\n                        break\n                    else:\n                        turn = 'Tail'\n        \n    input(\"press enter for continue .....\")\n        \n    if not replay():\n        break\n",
      "metadata": {
        "trusted": true
      },
      "execution_count": 3,
      "outputs": [
        {
          "name": "stdout",
          "text": "Toss: \n\tHead OR\tTail\n\n",
          "output_type": "stream"
        },
        {
          "ename": "<class 'AttributeError'>",
          "evalue": "'Future' object has no attribute 'capitalize'",
          "traceback": [
            "\u001b[0;31m---------------------------------------------------------------------------\u001b[0m",
            "\u001b[0;31mAttributeError\u001b[0m                            Traceback (most recent call last)",
            "Cell \u001b[0;32mIn [3], line 144\u001b[0m\n\u001b[1;32m    142\u001b[0m theBoard \u001b[38;5;241m=\u001b[39m [\u001b[38;5;124m'\u001b[39m\u001b[38;5;124m \u001b[39m\u001b[38;5;124m'\u001b[39m] \u001b[38;5;241m*\u001b[39m \u001b[38;5;241m10\u001b[39m\n\u001b[1;32m    143\u001b[0m name_of_players\u001b[38;5;241m=\u001b[39mplayer_name()\n\u001b[0;32m--> 144\u001b[0m toss_result \u001b[38;5;241m=\u001b[39m \u001b[43mchoose_first\u001b[49m\u001b[43m(\u001b[49m\u001b[43m)\u001b[49m\n\u001b[1;32m    145\u001b[0m turn \u001b[38;5;241m=\u001b[39m toss_result\n\u001b[1;32m    146\u001b[0m player1_marker, player2_marker \u001b[38;5;241m=\u001b[39m player_input()\n",
            "Cell \u001b[0;32mIn [3], line 68\u001b[0m, in \u001b[0;36mchoose_first\u001b[0;34m()\u001b[0m\n\u001b[1;32m     65\u001b[0m \u001b[38;5;28mprint\u001b[39m(\u001b[38;5;124m\"\u001b[39m\u001b[38;5;124mToss: \u001b[39m\u001b[38;5;130;01m\\n\u001b[39;00m\u001b[38;5;130;01m\\t\u001b[39;00m\u001b[38;5;124mHead OR\u001b[39m\u001b[38;5;130;01m\\t\u001b[39;00m\u001b[38;5;124mTail\u001b[39m\u001b[38;5;130;01m\\n\u001b[39;00m\u001b[38;5;124m\"\u001b[39m)\n\u001b[1;32m     66\u001b[0m player_1\u001b[38;5;241m=\u001b[39m\u001b[38;5;28minput\u001b[39m(\u001b[38;5;124mf\u001b[39m\u001b[38;5;124m\"\u001b[39m\u001b[38;5;132;01m{\u001b[39;00mpler_1\u001b[38;5;132;01m}\u001b[39;00m\u001b[38;5;124m select = \u001b[39m\u001b[38;5;124m\"\u001b[39m)\n\u001b[0;32m---> 68\u001b[0m \u001b[38;5;28;01mif\u001b[39;00m \u001b[43mplayer_1\u001b[49m\u001b[38;5;241;43m.\u001b[39;49m\u001b[43mcapitalize\u001b[49m()\u001b[38;5;241m==\u001b[39m\u001b[38;5;124m\"\u001b[39m\u001b[38;5;124mHead\u001b[39m\u001b[38;5;124m\"\u001b[39m:\n\u001b[1;32m     69\u001b[0m     player_2\u001b[38;5;241m=\u001b[39m\u001b[38;5;124m'\u001b[39m\u001b[38;5;124mTail\u001b[39m\u001b[38;5;124m'\u001b[39m\n\u001b[1;32m     70\u001b[0m     \u001b[38;5;28mprint\u001b[39m(\u001b[38;5;124mf\u001b[39m\u001b[38;5;124m\"\u001b[39m\u001b[38;5;132;01m{\u001b[39;00mpler_2\u001b[38;5;132;01m}\u001b[39;00m\u001b[38;5;124m select = Tail\u001b[39m\u001b[38;5;124m\"\u001b[39m)\n",
            "\u001b[0;31mAttributeError\u001b[0m: 'Future' object has no attribute 'capitalize'"
          ],
          "output_type": "error"
        },
        {
          "output_type": "stream",
          "name": "stdin",
          "text": "<Future pending> select =  prince\n"
        }
      ]
    },
    {
      "cell_type": "code",
      "source": "import math\ndef vol(rad):\n    volume = (4*math.pi*(rad**3))/3\n    return float(f'{volume:1.4f}')\nvol(2)",
      "metadata": {
        "trusted": true
      },
      "execution_count": 38,
      "outputs": [
        {
          "execution_count": 38,
          "output_type": "execute_result",
          "data": {
            "text/plain": "33.5103"
          },
          "metadata": {}
        }
      ]
    },
    {
      "cell_type": "code",
      "source": "def ran_check(num, low, high):\n    if low<num<high:\n        return f'{num} is in the range {low} and {high}'\n    else:\n        return f'{num} is in the range {low} and {high}'\n    \nran_check(5, 2, 7)",
      "metadata": {
        "trusted": true
      },
      "execution_count": 42,
      "outputs": [
        {
          "execution_count": 42,
          "output_type": "execute_result",
          "data": {
            "text/plain": "'5 is in the range 2 and 7'"
          },
          "metadata": {}
        }
      ]
    },
    {
      "cell_type": "code",
      "source": "def ran_bool(num, low, high):\n    if low<num<high:\n        return True\n    else:\n        return False\n\nran_bool(3, 1, 10)",
      "metadata": {
        "trusted": true
      },
      "execution_count": 44,
      "outputs": [
        {
          "execution_count": 44,
          "output_type": "execute_result",
          "data": {
            "text/plain": "True"
          },
          "metadata": {}
        }
      ]
    },
    {
      "cell_type": "code",
      "source": "def up_low(s):\n    u = 0\n    l = 0\n    \n    for item in s:\n        if item.isupper() == True:\n            u = u + 1\n        elif item.islower() == True:\n            l = l + 1\n        else:\n            pass\n    \n    print(f'Orginal String: {s}')\n    print('Total number of uppercase letter = %s'%(u))\n    print('Total number of lowercase letter = %s'%(l))\n    \nup_low('Hello Mr. Rogers, how are you this fine Tuesday?')",
      "metadata": {
        "trusted": true
      },
      "execution_count": 52,
      "outputs": [
        {
          "name": "stdout",
          "text": "Orginal String: Hello Mr. Rogers, how are you this fine Tuesday?\nTotal number of uppercase letter = 4\nTotal number of lowercase letter = 33\n",
          "output_type": "stream"
        }
      ]
    },
    {
      "cell_type": "code",
      "source": "'S'.islower()",
      "metadata": {
        "trusted": true
      },
      "execution_count": 47,
      "outputs": [
        {
          "execution_count": 47,
          "output_type": "execute_result",
          "data": {
            "text/plain": "False"
          },
          "metadata": {}
        }
      ]
    },
    {
      "cell_type": "code",
      "source": "def unique_list(lst):\n    uniq = list(set(lst))\n    print('Sample List: ', lst)\n    print('Unique LIst: ', uniq)\n    \nlst = [1,1,1,1,2,2,3,3,3,3,4,5]\nunique_list(lst)",
      "metadata": {
        "trusted": true
      },
      "execution_count": 53,
      "outputs": [
        {
          "name": "stdout",
          "text": "Sample List:  [1, 1, 1, 1, 2, 2, 3, 3, 3, 3, 4, 5]\nUnique LIst:  [1, 2, 3, 4, 5]\n",
          "output_type": "stream"
        }
      ]
    },
    {
      "cell_type": "code",
      "source": "def multiply(numbers):\n    total = 1\n    for item in numbers:\n        total = total * item\n    print('Sample List = ', numbers)\n    print('Expected Output = ', total)\n\nmultiply([1, 2, 3, -4])",
      "metadata": {
        "trusted": true
      },
      "execution_count": 55,
      "outputs": [
        {
          "name": "stdout",
          "text": "Sample List =  [1, 2, 3, -4]\nExpected Output =  -24\n",
          "output_type": "stream"
        }
      ]
    },
    {
      "cell_type": "code",
      "source": "def palindrome(s):\n    return s == s[::-1]\n\npalindrome('helleh')",
      "metadata": {
        "trusted": true
      },
      "execution_count": 56,
      "outputs": [
        {
          "execution_count": 56,
          "output_type": "execute_result",
          "data": {
            "text/plain": "True"
          },
          "metadata": {}
        }
      ]
    },
    {
      "cell_type": "code",
      "source": "def ispangram(str1):\n    l = []\n    for item in str1:\n        if item.lower() in l:\n            pass\n        elif item == ' ':\n            pass\n        else:\n            l.append(item.lower())\n    return ''.join(l)\n            \nispangram('The quick brown fox jumps over the lazy dog')",
      "metadata": {
        "trusted": true
      },
      "execution_count": 67,
      "outputs": [
        {
          "execution_count": 67,
          "output_type": "execute_result",
          "data": {
            "text/plain": "'thequickbrownfxjmpsvlazydg'"
          },
          "metadata": {}
        }
      ]
    },
    {
      "cell_type": "code",
      "source": "",
      "metadata": {},
      "execution_count": null,
      "outputs": []
    },
    {
      "cell_type": "code",
      "source": "",
      "metadata": {},
      "execution_count": null,
      "outputs": []
    }
  ]
}