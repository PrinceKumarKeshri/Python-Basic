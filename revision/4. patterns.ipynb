{
  "metadata": {
    "language_info": {
      "codemirror_mode": {
        "name": "python",
        "version": 3
      },
      "file_extension": ".py",
      "mimetype": "text/x-python",
      "name": "python",
      "nbconvert_exporter": "python",
      "pygments_lexer": "ipython3",
      "version": "3.8"
    },
    "kernelspec": {
      "name": "python",
      "display_name": "Python (Pyodide)",
      "language": "python"
    }
  },
  "nbformat_minor": 4,
  "nbformat": 4,
  "cells": [
    {
      "cell_type": "code",
      "source": "print('Prince')",
      "metadata": {
        "trusted": true
      },
      "execution_count": 1,
      "outputs": [
        {
          "name": "stdout",
          "text": "Prince\n",
          "output_type": "stream"
        }
      ]
    },
    {
      "cell_type": "code",
      "source": "for i in range(0, 5):\n    for j in range(0, i):\n        print('*', end='')\n    print()",
      "metadata": {
        "trusted": true
      },
      "execution_count": 4,
      "outputs": [
        {
          "name": "stdout",
          "text": "\n*\n**\n***\n****\n",
          "output_type": "stream"
        }
      ]
    },
    {
      "cell_type": "code",
      "source": "for i in range(0, 5):\n    for j in range(0, 4-i):\n        print(' ', end = '')\n    for k in range(0, i):\n        print('*', end= '')\n    print()",
      "metadata": {
        "trusted": true
      },
      "execution_count": 11,
      "outputs": [
        {
          "name": "stdout",
          "text": "    \n   *\n  **\n ***\n****\n",
          "output_type": "stream"
        }
      ]
    },
    {
      "cell_type": "code",
      "source": "for i in range(0, 5):\n    for j in range(0, 4-i):\n        print('*', end='')\n    print()",
      "metadata": {
        "trusted": true
      },
      "execution_count": 61,
      "outputs": [
        {
          "name": "stdout",
          "text": "****\n***\n**\n*\n\n",
          "output_type": "stream"
        }
      ]
    },
    {
      "cell_type": "code",
      "source": "for i in range(0, 5):\n    for j in range(0, i):\n        print(' ', end = '')\n    for k in range(0, 4-i):\n        print('*', end = '')\n    print()",
      "metadata": {
        "trusted": true
      },
      "execution_count": 10,
      "outputs": [
        {
          "name": "stdout",
          "text": "****\n ***\n  **\n   *\n    \n",
          "output_type": "stream"
        }
      ]
    },
    {
      "cell_type": "code",
      "source": "for i in range(0, 5):\n    for j in range(0, 4-i):\n        print(' ', end = '')\n    for k in range(0, i):\n        print('*', end= ' ')\n    print()",
      "metadata": {
        "trusted": true
      },
      "execution_count": 63,
      "outputs": [
        {
          "name": "stdout",
          "text": "    \n   * \n  * * \n * * * \n* * * * \n",
          "output_type": "stream"
        }
      ]
    },
    {
      "cell_type": "code",
      "source": "for i in range(0, 5):\n    for j in range(0, 5-i):\n        print(' ', end='')\n    for k in range(0, i):\n        print('*', end = '')\n    for l in range(1, i):\n        print('*', end = '')\n    print()",
      "metadata": {
        "trusted": true
      },
      "execution_count": 14,
      "outputs": [
        {
          "name": "stdout",
          "text": "     \n    *\n   ***\n  *****\n *******\n",
          "output_type": "stream"
        }
      ]
    },
    {
      "cell_type": "code",
      "source": "for i in range(0, 5):\n    for j in range(0, i):\n        print(' ', end = '')\n    for k in range(0, 4-i):\n        print('*', end = ' ')\n    print()",
      "metadata": {
        "trusted": true
      },
      "execution_count": 66,
      "outputs": [
        {
          "name": "stdout",
          "text": "* * * * \n * * * \n  * * \n   * \n    \n",
          "output_type": "stream"
        }
      ]
    },
    {
      "cell_type": "code",
      "source": "for i in range(0, 4):\n    for j in range(0, i):\n        print(' ', end = '')\n    for k in range(0, 4-i):\n        print('*', end='')\n    m = 4-i-2\n    for l in range(1, 4-i):\n        print('*', end = '')\n        m = m -1\n    \n    print()",
      "metadata": {
        "trusted": true
      },
      "execution_count": 64,
      "outputs": [
        {
          "name": "stdout",
          "text": "*******\n *****\n  ***\n   *\n",
          "output_type": "stream"
        }
      ]
    },
    {
      "cell_type": "code",
      "source": "for i in range(0, 5):\n    for j in range(0, i):\n        print(j, end = '')\n    print()",
      "metadata": {
        "trusted": true
      },
      "execution_count": 15,
      "outputs": [
        {
          "name": "stdout",
          "text": "\n0\n01\n012\n0123\n",
          "output_type": "stream"
        }
      ]
    },
    {
      "cell_type": "code",
      "source": "for i in range(0, 5):\n    for j in range(0, 5-i):\n        print(' ', end='')\n    for k in range(0, i):\n        print(k, end = '')\n    for l in range(1, i):\n        print(l, end = '')\n    print()",
      "metadata": {
        "trusted": true
      },
      "execution_count": 23,
      "outputs": [
        {
          "name": "stdout",
          "text": "     \n    0\n   011\n  01212\n 0123123\n",
          "output_type": "stream"
        }
      ]
    },
    {
      "cell_type": "code",
      "source": "for i in range(0, 5):\n    for j in range(0, 5-i):\n        print(' ', end='')\n    for k in range(0, i):\n        print(k, end = '')\n    m = i-2\n    for l in range(1, i):\n        print(m, end = '')\n        m = m -1\n    print()",
      "metadata": {
        "trusted": true
      },
      "execution_count": 13,
      "outputs": [
        {
          "name": "stdout",
          "text": "     \n    0\n   010\n  01210\n 0123210\n",
          "output_type": "stream"
        }
      ]
    },
    {
      "cell_type": "code",
      "source": "for i in range(0, 4):\n    for j in range(0, i):\n        print(' ', end = '')\n    for k in range(0, 4-i):\n        print(k, end='')\n    m = 4-i-2\n    for l in range(1, 4-i):\n        print(m, end = '')\n        m = m -1\n    \n    print()",
      "metadata": {
        "trusted": true
      },
      "execution_count": 41,
      "outputs": [
        {
          "name": "stdout",
          "text": "0123210\n 01210\n  010\n   0\n",
          "output_type": "stream"
        }
      ]
    },
    {
      "cell_type": "code",
      "source": "for i in range(0, 4):\n    for j in range(0, i):\n        print(' ', end = '')\n    for k in range(0, 4-i):\n        print(k, end=' ')\n    print()",
      "metadata": {
        "trusted": true
      },
      "execution_count": 54,
      "outputs": [
        {
          "name": "stdout",
          "text": "0 1 2 3 \n 0 1 2 \n  0 1 \n   0 \n",
          "output_type": "stream"
        }
      ]
    },
    {
      "cell_type": "code",
      "source": "for i in range(0, 5):\n    for j in range(0, 5-i):\n        print(' ', end = '')\n    for k in range(0, i):\n        print(k, end= ' ')\n    print()",
      "metadata": {
        "trusted": true
      },
      "execution_count": 58,
      "outputs": [
        {
          "name": "stdout",
          "text": "     \n    0 \n   0 1 \n  0 1 2 \n 0 1 2 3 \n",
          "output_type": "stream"
        }
      ]
    },
    {
      "cell_type": "code",
      "source": "",
      "metadata": {},
      "execution_count": null,
      "outputs": []
    }
  ]
}