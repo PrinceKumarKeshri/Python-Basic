{
  "metadata": {
    "language_info": {
      "codemirror_mode": {
        "name": "python",
        "version": 3
      },
      "file_extension": ".py",
      "mimetype": "text/x-python",
      "name": "python",
      "nbconvert_exporter": "python",
      "pygments_lexer": "ipython3",
      "version": "3.8"
    },
    "kernelspec": {
      "name": "python",
      "display_name": "Python (Pyodide)",
      "language": "python"
    }
  },
  "nbformat_minor": 4,
  "nbformat": 4,
  "cells": [
    {
      "cell_type": "code",
      "source": "'{w} {g} is my dream {b}'.format(w='BMW', g='G310R', b='bike')",
      "metadata": {
        "trusted": true
      },
      "execution_count": 15,
      "outputs": [
        {
          "execution_count": 15,
          "output_type": "execute_result",
          "data": {
            "text/plain": "'BMW G310R is my dream bike'"
          },
          "metadata": {}
        }
      ]
    },
    {
      "cell_type": "code",
      "source": "'%s %s is my dream %s'%('BMW', 'G310R', 'bike')",
      "metadata": {
        "trusted": true
      },
      "execution_count": 16,
      "outputs": [
        {
          "execution_count": 16,
          "output_type": "execute_result",
          "data": {
            "text/plain": "'BMW G310R is my dream bike'"
          },
          "metadata": {}
        }
      ]
    },
    {
      "cell_type": "code",
      "source": "'%r %r is my dream %r'%('BMW', 'G310R', 'bike')",
      "metadata": {
        "trusted": true
      },
      "execution_count": 19,
      "outputs": [
        {
          "execution_count": 19,
          "output_type": "execute_result",
          "data": {
            "text/plain": "\"'BMW' 'G310R' is my dream 'bike'\""
          },
          "metadata": {}
        }
      ]
    },
    {
      "cell_type": "code",
      "source": "'%r %s is my dream %s'%('BMW', 'G310R', 'bike')",
      "metadata": {
        "trusted": true
      },
      "execution_count": 21,
      "outputs": [
        {
          "execution_count": 21,
          "output_type": "execute_result",
          "data": {
            "text/plain": "\"'BMW' G310R is my dream bike\""
          },
          "metadata": {}
        }
      ]
    },
    {
      "cell_type": "code",
      "source": "result = 104.02737365\n'The is precision concept {:1.3f}'.format(result)",
      "metadata": {
        "trusted": true
      },
      "execution_count": 50,
      "outputs": [
        {
          "execution_count": 50,
          "output_type": "execute_result",
          "data": {
            "text/plain": "'The is precision concept 104.027'"
          },
          "metadata": {}
        }
      ]
    },
    {
      "cell_type": "code",
      "source": "result = 104.02737365\n'The is precision concept {r:1.3f}'.format(r=result)",
      "metadata": {
        "trusted": true
      },
      "execution_count": 28,
      "outputs": [
        {
          "execution_count": 28,
          "output_type": "execute_result",
          "data": {
            "text/plain": "'The is precision concept 104.027'"
          },
          "metadata": {}
        }
      ]
    },
    {
      "cell_type": "code",
      "source": "result = 104.02737365\n'The is precision concept %1.3f' %(result)",
      "metadata": {
        "trusted": true
      },
      "execution_count": 39,
      "outputs": [
        {
          "execution_count": 39,
          "output_type": "execute_result",
          "data": {
            "text/plain": "'The is precision concept 104.027'"
          },
          "metadata": {}
        }
      ]
    },
    {
      "cell_type": "code",
      "source": "'The is precision concept %1.3f' %(104.02737365)",
      "metadata": {
        "trusted": true
      },
      "execution_count": 40,
      "outputs": [
        {
          "execution_count": 40,
          "output_type": "execute_result",
          "data": {
            "text/plain": "'The is precision concept 104.027'"
          },
          "metadata": {}
        }
      ]
    },
    {
      "cell_type": "code",
      "source": "result = 104.02737365\nprint('The is precision concept %s' %(result))\nprint('The is precision concept %r' %(result))",
      "metadata": {
        "trusted": true
      },
      "execution_count": 48,
      "outputs": [
        {
          "name": "stdout",
          "text": "The is precision concept 104.02737365\nThe is precision concept 104.02737365\n",
          "output_type": "stream"
        }
      ]
    },
    {
      "cell_type": "code",
      "source": "bike = 'BMW'\nmodel = 'G310R'\nf'{bike} {model} is my dream bike'",
      "metadata": {
        "trusted": true
      },
      "execution_count": 52,
      "outputs": [
        {
          "execution_count": 52,
          "output_type": "execute_result",
          "data": {
            "text/plain": "'BMW G310R is my dream bike'"
          },
          "metadata": {}
        }
      ]
    },
    {
      "cell_type": "code",
      "source": "result",
      "metadata": {
        "trusted": true
      },
      "execution_count": 53,
      "outputs": [
        {
          "execution_count": 53,
          "output_type": "execute_result",
          "data": {
            "text/plain": "104.02737365"
          },
          "metadata": {}
        }
      ]
    },
    {
      "cell_type": "code",
      "source": "f'{result:1.3f} is precision concept'",
      "metadata": {
        "trusted": true
      },
      "execution_count": 54,
      "outputs": [
        {
          "execution_count": 54,
          "output_type": "execute_result",
          "data": {
            "text/plain": "'104.027 is precision concept'"
          },
          "metadata": {}
        }
      ]
    },
    {
      "cell_type": "code",
      "source": "class Data(object):\n\n    def __str__(self):\n        return 'str'\n    def __repr__(self):\n        return 'repr'\n\n\n'%s %r' %(Data(), Data())",
      "metadata": {
        "trusted": true
      },
      "execution_count": 12,
      "outputs": [
        {
          "execution_count": 12,
          "output_type": "execute_result",
          "data": {
            "text/plain": "'str repr'"
          },
          "metadata": {}
        }
      ]
    },
    {
      "cell_type": "markdown",
      "source": "# Set",
      "metadata": {}
    },
    {
      "cell_type": "code",
      "source": "s={1,2,2,2,1}",
      "metadata": {
        "trusted": true
      },
      "execution_count": 16,
      "outputs": []
    },
    {
      "cell_type": "code",
      "source": "s",
      "metadata": {
        "trusted": true
      },
      "execution_count": 17,
      "outputs": [
        {
          "execution_count": 17,
          "output_type": "execute_result",
          "data": {
            "text/plain": "{1, 2}"
          },
          "metadata": {}
        }
      ]
    },
    {
      "cell_type": "code",
      "source": "s = 'Mississippi'\nset(s)",
      "metadata": {
        "trusted": true
      },
      "execution_count": 18,
      "outputs": [
        {
          "execution_count": 18,
          "output_type": "execute_result",
          "data": {
            "text/plain": "{'M', 'i', 'p', 's'}"
          },
          "metadata": {}
        }
      ]
    },
    {
      "cell_type": "code",
      "source": "",
      "metadata": {},
      "execution_count": null,
      "outputs": []
    }
  ]
}