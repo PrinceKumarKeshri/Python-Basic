{
 "cells": [
  {
   "cell_type": "code",
   "execution_count": 9,
   "metadata": {},
   "outputs": [
    {
     "name": "stdout",
     "output_type": "stream",
     "text": [
      "Hello \t\t\tworld\n"
     ]
    }
   ],
   "source": [
    "print(\"Hello \\t\\t\\tworld\")"
   ]
  },
  {
   "cell_type": "code",
   "execution_count": null,
   "metadata": {},
   "outputs": [],
   "source": []
  },
  {
   "cell_type": "code",
   "execution_count": null,
   "metadata": {},
   "outputs": [],
   "source": []
  },
  {
   "cell_type": "code",
   "execution_count": 12,
   "metadata": {},
   "outputs": [
    {
     "name": "stdout",
     "output_type": "stream",
     "text": [
      "hello world one\n"
     ]
    },
    {
     "data": {
      "text/plain": [
       "'hello world two'"
      ]
     },
     "execution_count": 12,
     "metadata": {},
     "output_type": "execute_result"
    }
   ],
   "source": [
    "print(\"hello world one\")\n",
    "\"hello world two\""
   ]
  },
  {
   "cell_type": "code",
   "execution_count": 33,
   "metadata": {},
   "outputs": [
    {
     "name": "stdout",
     "output_type": "stream",
     "text": [
      "hello wolrd one\n",
      "hello world three\n"
     ]
    }
   ],
   "source": [
    "print(\"hello wolrd one\")\n",
    "\"hello wolrd two\"\n",
    "print(\"hello world three\")"
   ]
  },
  {
   "cell_type": "code",
   "execution_count": 20,
   "metadata": {},
   "outputs": [
    {
     "name": "stdout",
     "output_type": "stream",
     "text": [
      "hello\n"
     ]
    }
   ],
   "source": [
    "print(\"hello\")"
   ]
  },
  {
   "cell_type": "code",
   "execution_count": 21,
   "metadata": {},
   "outputs": [
    {
     "data": {
      "text/plain": [
       "'hello'"
      ]
     },
     "execution_count": 21,
     "metadata": {},
     "output_type": "execute_result"
    }
   ],
   "source": [
    "\"hello\""
   ]
  },
  {
   "cell_type": "code",
   "execution_count": null,
   "metadata": {},
   "outputs": [],
   "source": []
  },
  {
   "cell_type": "code",
   "execution_count": null,
   "metadata": {},
   "outputs": [],
   "source": []
  },
  {
   "cell_type": "code",
   "execution_count": 42,
   "metadata": {},
   "outputs": [
    {
     "data": {
      "text/plain": [
       "' hello \"hello world\" world'"
      ]
     },
     "execution_count": 42,
     "metadata": {},
     "output_type": "execute_result"
    }
   ],
   "source": [
    "t"
   ]
  },
  {
   "cell_type": "code",
   "execution_count": null,
   "metadata": {},
   "outputs": [],
   "source": []
  },
  {
   "cell_type": "code",
   "execution_count": 36,
   "metadata": {},
   "outputs": [
    {
     "name": "stdout",
     "output_type": "stream",
     "text": [
      "hello world\n"
     ]
    }
   ],
   "source": [
    "print(t)"
   ]
  },
  {
   "cell_type": "code",
   "execution_count": 43,
   "metadata": {},
   "outputs": [],
   "source": [
    "t=\"hello world\""
   ]
  },
  {
   "cell_type": "code",
   "execution_count": 44,
   "metadata": {},
   "outputs": [
    {
     "data": {
      "text/plain": [
       "'hello world'"
      ]
     },
     "execution_count": 44,
     "metadata": {},
     "output_type": "execute_result"
    }
   ],
   "source": [
    "t"
   ]
  },
  {
   "cell_type": "code",
   "execution_count": 56,
   "metadata": {},
   "outputs": [
    {
     "data": {
      "text/plain": [
       "'ello world'"
      ]
     },
     "execution_count": 56,
     "metadata": {},
     "output_type": "execute_result"
    }
   ],
   "source": [
    "t[1::1]"
   ]
  },
  {
   "cell_type": "code",
   "execution_count": 70,
   "metadata": {},
   "outputs": [],
   "source": [
    "t=\"hello wolrd\"+\" it is very beautiful \""
   ]
  },
  {
   "cell_type": "code",
   "execution_count": 71,
   "metadata": {},
   "outputs": [
    {
     "data": {
      "text/plain": [
       "'hello wolrd it is very beautiful hello wolrd it is very beautiful hello wolrd it is very beautiful hello wolrd it is very beautiful hello wolrd it is very beautiful hello wolrd it is very beautiful hello wolrd it is very beautiful hello wolrd it is very beautiful hello wolrd it is very beautiful hello wolrd it is very beautiful hello wolrd it is very beautiful hello wolrd it is very beautiful hello wolrd it is very beautiful hello wolrd it is very beautiful hello wolrd it is very beautiful hello wolrd it is very beautiful hello wolrd it is very beautiful hello wolrd it is very beautiful hello wolrd it is very beautiful hello wolrd it is very beautiful hello wolrd it is very beautiful hello wolrd it is very beautiful hello wolrd it is very beautiful hello wolrd it is very beautiful hello wolrd it is very beautiful hello wolrd it is very beautiful hello wolrd it is very beautiful hello wolrd it is very beautiful hello wolrd it is very beautiful hello wolrd it is very beautiful hello wolrd it is very beautiful hello wolrd it is very beautiful hello wolrd it is very beautiful hello wolrd it is very beautiful hello wolrd it is very beautiful hello wolrd it is very beautiful hello wolrd it is very beautiful hello wolrd it is very beautiful hello wolrd it is very beautiful hello wolrd it is very beautiful hello wolrd it is very beautiful hello wolrd it is very beautiful hello wolrd it is very beautiful hello wolrd it is very beautiful hello wolrd it is very beautiful hello wolrd it is very beautiful hello wolrd it is very beautiful hello wolrd it is very beautiful hello wolrd it is very beautiful hello wolrd it is very beautiful hello wolrd it is very beautiful hello wolrd it is very beautiful hello wolrd it is very beautiful hello wolrd it is very beautiful hello wolrd it is very beautiful hello wolrd it is very beautiful hello wolrd it is very beautiful hello wolrd it is very beautiful hello wolrd it is very beautiful hello wolrd it is very beautiful hello wolrd it is very beautiful hello wolrd it is very beautiful hello wolrd it is very beautiful hello wolrd it is very beautiful hello wolrd it is very beautiful hello wolrd it is very beautiful hello wolrd it is very beautiful hello wolrd it is very beautiful hello wolrd it is very beautiful hello wolrd it is very beautiful hello wolrd it is very beautiful hello wolrd it is very beautiful hello wolrd it is very beautiful hello wolrd it is very beautiful hello wolrd it is very beautiful hello wolrd it is very beautiful hello wolrd it is very beautiful hello wolrd it is very beautiful hello wolrd it is very beautiful hello wolrd it is very beautiful hello wolrd it is very beautiful hello wolrd it is very beautiful hello wolrd it is very beautiful hello wolrd it is very beautiful hello wolrd it is very beautiful hello wolrd it is very beautiful hello wolrd it is very beautiful hello wolrd it is very beautiful hello wolrd it is very beautiful hello wolrd it is very beautiful hello wolrd it is very beautiful hello wolrd it is very beautiful hello wolrd it is very beautiful hello wolrd it is very beautiful hello wolrd it is very beautiful hello wolrd it is very beautiful hello wolrd it is very beautiful hello wolrd it is very beautiful hello wolrd it is very beautiful hello wolrd it is very beautiful hello wolrd it is very beautiful hello wolrd it is very beautiful hello wolrd it is very beautiful hello wolrd it is very beautiful hello wolrd it is very beautiful hello wolrd it is very beautiful hello wolrd it is very beautiful hello wolrd it is very beautiful hello wolrd it is very beautiful hello wolrd it is very beautiful hello wolrd it is very beautiful hello wolrd it is very beautiful hello wolrd it is very beautiful hello wolrd it is very beautiful hello wolrd it is very beautiful hello wolrd it is very beautiful hello wolrd it is very beautiful hello wolrd it is very beautiful hello wolrd it is very beautiful hello wolrd it is very beautiful '"
      ]
     },
     "execution_count": 71,
     "metadata": {},
     "output_type": "execute_result"
    }
   ],
   "source": [
    "t*120"
   ]
  },
  {
   "cell_type": "code",
   "execution_count": 72,
   "metadata": {},
   "outputs": [],
   "source": [
    "t=\"sam\""
   ]
  },
  {
   "cell_type": "code",
   "execution_count": 73,
   "metadata": {},
   "outputs": [
    {
     "data": {
      "text/plain": [
       "'sam'"
      ]
     },
     "execution_count": 73,
     "metadata": {},
     "output_type": "execute_result"
    }
   ],
   "source": [
    "t"
   ]
  },
  {
   "cell_type": "code",
   "execution_count": 74,
   "metadata": {},
   "outputs": [
    {
     "data": {
      "text/plain": [
       "'pam'"
      ]
     },
     "execution_count": 74,
     "metadata": {},
     "output_type": "execute_result"
    }
   ],
   "source": [
    "\"p\"+t[1:]"
   ]
  },
  {
   "cell_type": "code",
   "execution_count": 75,
   "metadata": {},
   "outputs": [],
   "source": [
    "t=\"hello world\""
   ]
  },
  {
   "cell_type": "code",
   "execution_count": 79,
   "metadata": {},
   "outputs": [
    {
     "data": {
      "text/plain": [
       "'Hello world'"
      ]
     },
     "execution_count": 79,
     "metadata": {},
     "output_type": "execute_result"
    }
   ],
   "source": [
    "t.capitalize()"
   ]
  },
  {
   "cell_type": "code",
   "execution_count": 112,
   "metadata": {},
   "outputs": [
    {
     "ename": "SyntaxError",
     "evalue": "keyword can't be an expression (<ipython-input-112-2c4d98683846>, line 1)",
     "output_type": "error",
     "traceback": [
      "\u001b[1;36m  File \u001b[1;32m\"<ipython-input-112-2c4d98683846>\"\u001b[1;36m, line \u001b[1;32m1\u001b[0m\n\u001b[1;33m    t.replace(t[2]=\"8\")\u001b[0m\n\u001b[1;37m             ^\u001b[0m\n\u001b[1;31mSyntaxError\u001b[0m\u001b[1;31m:\u001b[0m keyword can't be an expression\n"
     ]
    }
   ],
   "source": [
    "t.replace(t[2]=\"8\")"
   ]
  },
  {
   "cell_type": "code",
   "execution_count": null,
   "metadata": {},
   "outputs": [],
   "source": []
  },
  {
   "cell_type": "code",
   "execution_count": null,
   "metadata": {},
   "outputs": [],
   "source": []
  }
 ],
 "metadata": {
  "kernelspec": {
   "display_name": "Python 3",
   "language": "python",
   "name": "python3"
  },
  "language_info": {
   "codemirror_mode": {
    "name": "ipython",
    "version": 3
   },
   "file_extension": ".py",
   "mimetype": "text/x-python",
   "name": "python",
   "nbconvert_exporter": "python",
   "pygments_lexer": "ipython3",
   "version": "3.7.4"
  }
 },
 "nbformat": 4,
 "nbformat_minor": 2
}
