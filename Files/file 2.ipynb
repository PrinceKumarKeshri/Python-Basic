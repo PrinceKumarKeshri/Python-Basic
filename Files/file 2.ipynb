{
 "cells": [
  {
   "cell_type": "code",
   "execution_count": null,
   "metadata": {},
   "outputs": [],
   "source": [
    "import turtle\n",
    "from turtle import*\n",
    " \n",
    "#screen for output\n",
    "screen = turtle.Screen()\n",
    " \n",
    "# Defining a turtle Instance\n",
    "t = turtle.Turtle()\n",
    "speed(0)\n",
    " \n",
    "# initially penup()\n",
    "t.penup()\n",
    "t.goto(-400, 250)\n",
    "t.pendown()\n",
    " \n",
    "# Orange Rectangle \n",
    "#white rectangle\n",
    "t.color(\"orange\")\n",
    "t.begin_fill()\n",
    "t.forward(800)\n",
    "t.right(90)\n",
    "t.forward(167)\n",
    "t.right(90)\n",
    "t.forward(800)\n",
    "t.end_fill()\n",
    "t.left(90)\n",
    "t.forward(167)\n",
    " \n",
    "# Green Rectangle\n",
    "t.color(\"green\")\n",
    "t.begin_fill()\n",
    "t.forward(167)\n",
    "t.left(90)\n",
    "t.forward(800)\n",
    "t.left(90)\n",
    "t.forward(167)\n",
    "t.end_fill()\n",
    " \n",
    "# Big Blue Circle\n",
    "t.penup()\n",
    "t.goto(70, 0)\n",
    "t.pendown()\n",
    "t.color(\"navy\")\n",
    "t.begin_fill()\n",
    "t.circle(70)\n",
    "t.end_fill()\n",
    " \n",
    "# Big White Circle\n",
    "t.penup()\n",
    "t.goto(60, 0)\n",
    "t.pendown()\n",
    "t.color(\"white\")\n",
    "t.begin_fill()\n",
    "t.circle(60)\n",
    "t.end_fill()\n",
    " \n",
    "# Mini Blue Circles\n",
    "t.penup()\n",
    "t.goto(-57, -8)\n",
    "t.pendown()\n",
    "t.color(\"navy\")\n",
    "for i in range(24):\n",
    "    t.begin_fill()\n",
    "    t.circle(3)\n",
    "    t.end_fill()\n",
    "    t.penup()\n",
    "    t.forward(15)\n",
    "    t.right(15)\n",
    "    t.pendown()\n",
    "     \n",
    "# Small Blue Circle\n",
    "t.penup()\n",
    "t.goto(20, 0)\n",
    "t.pendown()\n",
    "t.begin_fill()\n",
    "t.circle(20)\n",
    "t.end_fill()\n",
    "# Spokes\n",
    "t.penup()\n",
    "t.goto(0, 0)\n",
    "t.pendown()\n",
    "t.pensize(2)\n",
    "for i in range(24):\n",
    "    t.forward(60)\n",
    "    t.backward(60)\n",
    "    t.left(15)\n",
    "     \n",
    "#to hold the \n",
    "#output window\n",
    "turtle.done()\n"
   ]
  },
  {
   "cell_type": "code",
   "execution_count": 7,
   "metadata": {},
   "outputs": [
    {
     "name": "stdout",
     "output_type": "stream",
     "text": [
      "My name is prince.\n",
      "My best friends are : \n",
      "Dhruv,\n",
      "Dev, \n",
      "Rajat, \n",
      "Partik, \n",
      "Sachin, \n",
      "Chetan, \n",
      "Narendar, \n",
      "Krishna, \n",
      "Sumit,\n",
      "Harsh and \n",
      "Mukesh.\n",
      "Total 12 friends I have. \n",
      "\n",
      "('My friend rajat birthday is ', 6, 'February ', 1999)\n",
      "\n",
      "my birthday date is 26 may 1999"
     ]
    }
   ],
   "source": [
    "with open('C:/Users/0526p/Documents/exp.txt','r') as r:\n",
    "    for line in r:\n",
    "        print(line,end='')"
   ]
  },
  {
   "cell_type": "code",
   "execution_count": 8,
   "metadata": {},
   "outputs": [],
   "source": [
    "value=(\"\"\"My name is prince.\n",
    "My best friends are : \n",
    "Dhruv,\n",
    "Dev, \n",
    "Rajat, \n",
    "Partik, \n",
    "Sachin, \n",
    "Chetan, \n",
    "Narendar, \n",
    "Krishna, \n",
    "Sumit,\n",
    "Harsh and \n",
    "Mukesh.\n",
    "Total 12 friends I have. \"\"\")\n",
    "with open('C:/Users/0526p/Documents/exp.txt','w') as f:\n",
    "    s=str(value)\n",
    "    f.write(s)"
   ]
  },
  {
   "cell_type": "code",
   "execution_count": 9,
   "metadata": {},
   "outputs": [
    {
     "name": "stdout",
     "output_type": "stream",
     "text": [
      "My name is prince.\n",
      "My best friends are : \n",
      "Dhruv,\n",
      "Dev, \n",
      "Rajat, \n",
      "Partik, \n",
      "Sachin, \n",
      "Chetan, \n",
      "Narendar, \n",
      "Krishna, \n",
      "Sumit,\n",
      "Harsh and \n",
      "Mukesh.\n",
      "Total 12 friends I have. "
     ]
    }
   ],
   "source": [
    "with open('C:/Users/0526p/Documents/exp.txt','r') as r:\n",
    "    for line in r:\n",
    "        print(line,end='')"
   ]
  },
  {
   "cell_type": "code",
   "execution_count": 10,
   "metadata": {},
   "outputs": [
    {
     "name": "stdout",
     "output_type": "stream",
     "text": [
      "My name is prince.\n",
      "My best friends are : \n",
      "Dhruv,\n",
      "Dev, \n",
      "Rajat, \n",
      "Partik, \n",
      "Sachin, \n",
      "Chetan, \n",
      "Narendar, \n",
      "Krishna, \n",
      "Sumit,\n",
      "Harsh and \n",
      "Mukesh.\n",
      "Total 12 friends I have. \n",
      "\n",
      "('My friend rajat birthday is ', 6, 'February ', 1999)"
     ]
    }
   ],
   "source": [
    "enter='My friend rajat birthday is ', 6, 'February ', 1999\n",
    "with open('C:/Users/0526p/Documents/exp.txt','a') as f:\n",
    "    s=str(enter)\n",
    "    f.write('\\n')\n",
    "    f.write('\\n')\n",
    "    f.write(s)\n",
    "with open('C:/Users/0526p/Documents/exp.txt','r') as f:\n",
    "    for line in f:\n",
    "        print(line, end='')"
   ]
  },
  {
   "cell_type": "code",
   "execution_count": 11,
   "metadata": {},
   "outputs": [],
   "source": [
    "# a+ is for append text and read documents.\n",
    "\n",
    "with open('C:/Users/0526p/Documents/exp.txt','a+') as f:\n",
    "    f.seek(4)\n",
    "    f.write('\\n')\n",
    "    f.write('\\n')\n",
    "    f.write('my birthday date is 26 may 1999')"
   ]
  },
  {
   "cell_type": "code",
   "execution_count": 12,
   "metadata": {},
   "outputs": [
    {
     "name": "stdout",
     "output_type": "stream",
     "text": [
      "My name is prince.\n",
      "My best friends are : \n",
      "Dhruv,\n",
      "Dev, \n",
      "Rajat, \n",
      "Partik, \n",
      "Sachin, \n",
      "Chetan, \n",
      "Narendar, \n",
      "Krishna, \n",
      "Sumit,\n",
      "Harsh and \n",
      "Mukesh.\n",
      "Total 12 friends I have. \n",
      "\n",
      "('My friend rajat birthday is ', 6, 'February ', 1999)\n",
      "\n",
      "my birthday date is 26 may 1999"
     ]
    }
   ],
   "source": [
    "with open('C:/Users/0526p/Documents/exp.txt','r') as r:\n",
    "    for line in r:\n",
    "        print(line,end='')"
   ]
  },
  {
   "cell_type": "code",
   "execution_count": null,
   "metadata": {},
   "outputs": [],
   "source": []
  }
 ],
 "metadata": {
  "kernelspec": {
   "display_name": "Python 3",
   "language": "python",
   "name": "python3"
  },
  "language_info": {
   "codemirror_mode": {
    "name": "ipython",
    "version": 3
   },
   "file_extension": ".py",
   "mimetype": "text/x-python",
   "name": "python",
   "nbconvert_exporter": "python",
   "pygments_lexer": "ipython3",
   "version": "3.7.4"
  }
 },
 "nbformat": 4,
 "nbformat_minor": 2
}
